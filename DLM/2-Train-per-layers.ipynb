{
 "cells": [
  {
   "cell_type": "markdown",
   "metadata": {},
   "source": [
    "\n",
    "# Dataset split train and test with timeseries generator"
   ]
  },
  {
   "cell_type": "markdown",
   "metadata": {},
   "source": [
    "## Import libraries"
   ]
  },
  {
   "cell_type": "code",
   "execution_count": 1,
   "metadata": {},
   "outputs": [
    {
     "name": "stdout",
     "output_type": "stream",
     "text": [
      "Wed Jan 12 10:11:08 2022       \n",
      "+-----------------------------------------------------------------------------+\n",
      "| NVIDIA-SMI 440.33.01    Driver Version: 440.33.01    CUDA Version: 10.2     |\n",
      "|-------------------------------+----------------------+----------------------+\n",
      "| GPU  Name        Persistence-M| Bus-Id        Disp.A | Volatile Uncorr. ECC |\n",
      "| Fan  Temp  Perf  Pwr:Usage/Cap|         Memory-Usage | GPU-Util  Compute M. |\n",
      "|===============================+======================+======================|\n",
      "|   0  Tesla V100-SXM2...  On   | 00000004:04:00.0 Off |                    0 |\n",
      "| N/A   34C    P0    34W / 300W |      0MiB / 16160MiB |      0%      Default |\n",
      "+-------------------------------+----------------------+----------------------+\n",
      "|   1  Tesla V100-SXM2...  On   | 00000004:05:00.0 Off |                    0 |\n",
      "| N/A   39C    P0    38W / 300W |      0MiB / 16160MiB |      0%      Default |\n",
      "+-------------------------------+----------------------+----------------------+\n",
      "|   2  Tesla V100-SXM2...  On   | 00000035:03:00.0 Off |                    0 |\n",
      "| N/A   32C    P0    37W / 300W |      0MiB / 16160MiB |      0%      Default |\n",
      "+-------------------------------+----------------------+----------------------+\n",
      "|   3  Tesla V100-SXM2...  On   | 00000035:04:00.0 Off |                    0 |\n",
      "| N/A   37C    P0    37W / 300W |      0MiB / 16160MiB |      0%      Default |\n",
      "+-------------------------------+----------------------+----------------------+\n",
      "                                                                               \n",
      "+-----------------------------------------------------------------------------+\n",
      "| Processes:                                                       GPU Memory |\n",
      "|  GPU       PID   Type   Process name                             Usage      |\n",
      "|=============================================================================|\n",
      "|  No running processes found                                                 |\n",
      "+-----------------------------------------------------------------------------+\n"
     ]
    }
   ],
   "source": [
    "!nvidia-smi"
   ]
  },
  {
   "cell_type": "code",
   "execution_count": 2,
   "metadata": {},
   "outputs": [
    {
     "ename": "KeyboardInterrupt",
     "evalue": "",
     "output_type": "error",
     "traceback": [
      "\u001b[0;31m---------------------------------------------------------------------------\u001b[0m",
      "\u001b[0;31mKeyboardInterrupt\u001b[0m                         Traceback (most recent call last)",
      "\u001b[0;32m<ipython-input-2-5a0700b326f6>\u001b[0m in \u001b[0;36m<module>\u001b[0;34m\u001b[0m\n\u001b[1;32m     36\u001b[0m \u001b[0mconfig\u001b[0m \u001b[0;34m=\u001b[0m \u001b[0mtf\u001b[0m\u001b[0;34m.\u001b[0m\u001b[0mcompat\u001b[0m\u001b[0;34m.\u001b[0m\u001b[0mv1\u001b[0m\u001b[0;34m.\u001b[0m\u001b[0mConfigProto\u001b[0m\u001b[0;34m(\u001b[0m\u001b[0;34m)\u001b[0m\u001b[0;34m\u001b[0m\u001b[0;34m\u001b[0m\u001b[0m\n\u001b[1;32m     37\u001b[0m \u001b[0mconfig\u001b[0m\u001b[0;34m.\u001b[0m\u001b[0mgpu_options\u001b[0m\u001b[0;34m.\u001b[0m\u001b[0mallow_growth\u001b[0m \u001b[0;34m=\u001b[0m \u001b[0;32mTrue\u001b[0m  \u001b[0;31m# True dynamically grow the memory used on the GPU\u001b[0m\u001b[0;34m\u001b[0m\u001b[0;34m\u001b[0m\u001b[0m\n\u001b[0;32m---> 38\u001b[0;31m \u001b[0msess\u001b[0m \u001b[0;34m=\u001b[0m \u001b[0mtf\u001b[0m\u001b[0;34m.\u001b[0m\u001b[0mcompat\u001b[0m\u001b[0;34m.\u001b[0m\u001b[0mv1\u001b[0m\u001b[0;34m.\u001b[0m\u001b[0mSession\u001b[0m\u001b[0;34m(\u001b[0m\u001b[0mconfig\u001b[0m\u001b[0;34m=\u001b[0m\u001b[0mconfig\u001b[0m\u001b[0;34m)\u001b[0m\u001b[0;34m\u001b[0m\u001b[0;34m\u001b[0m\u001b[0m\n\u001b[0m\u001b[1;32m     39\u001b[0m \u001b[0mset_session\u001b[0m\u001b[0;34m(\u001b[0m\u001b[0msess\u001b[0m\u001b[0;34m)\u001b[0m\u001b[0;34m\u001b[0m\u001b[0;34m\u001b[0m\u001b[0m\n\u001b[1;32m     40\u001b[0m \u001b[0;34m\u001b[0m\u001b[0m\n",
      "\u001b[0;32m/apps/PYTHON/3.7.4_ML/lib/python3.7/site-packages/tensorflow/python/client/session.py\u001b[0m in \u001b[0;36m__init__\u001b[0;34m(self, target, graph, config)\u001b[0m\n\u001b[1;32m   1584\u001b[0m           \u001b[0mprotocol\u001b[0m \u001b[0mbuffer\u001b[0m \u001b[0;32mwith\u001b[0m \u001b[0mconfiguration\u001b[0m \u001b[0moptions\u001b[0m \u001b[0;32mfor\u001b[0m \u001b[0mthe\u001b[0m \u001b[0msession\u001b[0m\u001b[0;34m.\u001b[0m\u001b[0;34m\u001b[0m\u001b[0;34m\u001b[0m\u001b[0m\n\u001b[1;32m   1585\u001b[0m     \"\"\"\n\u001b[0;32m-> 1586\u001b[0;31m     \u001b[0msuper\u001b[0m\u001b[0;34m(\u001b[0m\u001b[0mSession\u001b[0m\u001b[0;34m,\u001b[0m \u001b[0mself\u001b[0m\u001b[0;34m)\u001b[0m\u001b[0;34m.\u001b[0m\u001b[0m__init__\u001b[0m\u001b[0;34m(\u001b[0m\u001b[0mtarget\u001b[0m\u001b[0;34m,\u001b[0m \u001b[0mgraph\u001b[0m\u001b[0;34m,\u001b[0m \u001b[0mconfig\u001b[0m\u001b[0;34m=\u001b[0m\u001b[0mconfig\u001b[0m\u001b[0;34m)\u001b[0m\u001b[0;34m\u001b[0m\u001b[0;34m\u001b[0m\u001b[0m\n\u001b[0m\u001b[1;32m   1587\u001b[0m     \u001b[0;31m# NOTE(mrry): Create these on first `__enter__` to avoid a reference cycle.\u001b[0m\u001b[0;34m\u001b[0m\u001b[0;34m\u001b[0m\u001b[0;34m\u001b[0m\u001b[0m\n\u001b[1;32m   1588\u001b[0m     \u001b[0mself\u001b[0m\u001b[0;34m.\u001b[0m\u001b[0m_default_graph_context_manager\u001b[0m \u001b[0;34m=\u001b[0m \u001b[0;32mNone\u001b[0m\u001b[0;34m\u001b[0m\u001b[0;34m\u001b[0m\u001b[0m\n",
      "\u001b[0;32m/apps/PYTHON/3.7.4_ML/lib/python3.7/site-packages/tensorflow/python/client/session.py\u001b[0m in \u001b[0;36m__init__\u001b[0;34m(self, target, graph, config)\u001b[0m\n\u001b[1;32m    699\u001b[0m     \u001b[0;32mtry\u001b[0m\u001b[0;34m:\u001b[0m\u001b[0;34m\u001b[0m\u001b[0;34m\u001b[0m\u001b[0m\n\u001b[1;32m    700\u001b[0m       \u001b[0;31m# pylint: disable=protected-access\u001b[0m\u001b[0;34m\u001b[0m\u001b[0;34m\u001b[0m\u001b[0;34m\u001b[0m\u001b[0m\n\u001b[0;32m--> 701\u001b[0;31m       \u001b[0mself\u001b[0m\u001b[0;34m.\u001b[0m\u001b[0m_session\u001b[0m \u001b[0;34m=\u001b[0m \u001b[0mtf_session\u001b[0m\u001b[0;34m.\u001b[0m\u001b[0mTF_NewSessionRef\u001b[0m\u001b[0;34m(\u001b[0m\u001b[0mself\u001b[0m\u001b[0;34m.\u001b[0m\u001b[0m_graph\u001b[0m\u001b[0;34m.\u001b[0m\u001b[0m_c_graph\u001b[0m\u001b[0;34m,\u001b[0m \u001b[0mopts\u001b[0m\u001b[0;34m)\u001b[0m\u001b[0;34m\u001b[0m\u001b[0;34m\u001b[0m\u001b[0m\n\u001b[0m\u001b[1;32m    702\u001b[0m       \u001b[0;31m# pylint: enable=protected-access\u001b[0m\u001b[0;34m\u001b[0m\u001b[0;34m\u001b[0m\u001b[0;34m\u001b[0m\u001b[0m\n\u001b[1;32m    703\u001b[0m     \u001b[0;32mfinally\u001b[0m\u001b[0;34m:\u001b[0m\u001b[0;34m\u001b[0m\u001b[0;34m\u001b[0m\u001b[0m\n",
      "\u001b[0;31mKeyboardInterrupt\u001b[0m: "
     ]
    }
   ],
   "source": [
    "import os\n",
    "#os.environ['CUDA_VISIBLE_DEVICES'] = '0,1'\n",
    "#os.environ[\"CUDA_VISIBLE_DEVICES\"] = \"3\"\n",
    "os.environ[\"CUDA_VISIBLE_DEVICES\"] = \"-1\"\n",
    "\n",
    "from decimal import Decimal\n",
    "import numpy as np\n",
    "import glob\n",
    "import importlib\n",
    "import gc\n",
    "import matplotlib.pyplot as plt\n",
    "#from livelossplot import PlotLossesKeras\n",
    "import sklearn\n",
    "from sklearn.preprocessing import StandardScaler\n",
    "from sklearn.metrics import mean_absolute_error, mean_squared_error\n",
    "import pickle\n",
    "import gc # Garbage Collector\n",
    "import pandas as pd\n",
    "from numpy import savez_compressed\n",
    "from joblib import dump, load\n",
    "import h5py\n",
    "\n",
    "from keras.models import load_model\n",
    "from keras.preprocessing.sequence import TimeseriesGenerator\n",
    "from keras.models import Sequential, load_model\n",
    "from keras.layers import LSTM, TimeDistributed, BatchNormalization\n",
    "from keras.layers.core import Dense, Flatten, Dropout, RepeatVector, Reshape\n",
    "from keras.layers.convolutional import Conv3D, Conv3DTranspose, MaxPooling3D \n",
    "from keras.callbacks import ModelCheckpoint\n",
    "\n",
    "from platform import python_version\n",
    "import keras\n",
    "import tensorflow as tf\n",
    "\n",
    "from tensorflow.compat.v1.keras.backend import set_session\n",
    "config = tf.compat.v1.ConfigProto()\n",
    "config.gpu_options.allow_growth = True  # True dynamically grow the memory used on the GPU\n",
    "sess = tf.compat.v1.Session(config=config)\n",
    "set_session(sess)\n",
    "\n",
    "from tensorflow.python.client import device_lib\n",
    "def get_available_gpus():\n",
    "    local_device_protos = device_lib.list_local_devices()\n",
    "    return [x.name for x in local_device_protos if x.device_type == 'GPU']\n",
    "\n",
    "print('Notebook running on Python', python_version())\n",
    "print('Numpy version', np.version.version)\n",
    "print('Scikit-learn version {}.'.format(sklearn.__version__))\n",
    "print('Keras version ', keras.__version__,'and TensorFlow', tf.__version__, '(CUDA:', tf.test.is_built_with_cuda(), '- GPUs available:', get_available_gpus(), ')')"
   ]
  },
  {
   "cell_type": "markdown",
   "metadata": {},
   "source": [
    "## Define global variables\n",
    "Such as object dimension and dataset properties"
   ]
  },
  {
   "cell_type": "code",
   "execution_count": null,
   "metadata": {},
   "outputs": [],
   "source": [
    "dimX, dimY, dimZ = 117, 86, 38\n",
    "n_cells = dimX * dimY * dimZ\n",
    "dims = (dimX, dimY, dimZ)\n",
    "n_channels = 1\n",
    "n_input = 3\n",
    "n_output = 10\n",
    "n_batch = 8\n",
    "leakyrelu = lambda x: tf.keras.activations.relu(x, alpha=0.1)"
   ]
  },
  {
   "cell_type": "code",
   "execution_count": null,
   "metadata": {},
   "outputs": [],
   "source": [
    "class DataGenerator(keras.utils.Sequence):\n",
    "    'Generates data for Keras'\n",
    "    def __init__(self, list_datasets, batch_size=128, dim=(32,32,32), n_channels=3, shuffle=True, observation_samples=3, multistep=1):\n",
    "        #print('Generator Initialization')\n",
    "        self.dim = dim\n",
    "        self.batch_size = batch_size\n",
    "        self.n_channels = n_channels\n",
    "        self.shuffle = shuffle\n",
    "        self.n_input = observation_samples      \n",
    "        self.n_output = multistep\n",
    "        self.last_samples = self.n_input - 1 + self.n_output      \n",
    "        \n",
    "        self.indexes = []\n",
    "        cnt = 0\n",
    "        self.total_samples = 0\n",
    "        for case in list_datasets:\n",
    "            samples = len(case) - self.last_samples\n",
    "            self.total_samples += samples\n",
    "            for sample in range(samples):\n",
    "                self.indexes.append(cnt)\n",
    "                cnt += 1\n",
    "            cnt += self.last_samples\n",
    "        \n",
    "        self.ds = np.concatenate((list_datasets), axis = 0)\n",
    "        self.on_epoch_end()\n",
    "\n",
    "    def __len__(self):\n",
    "        'Denotes the number of batches per epoch'\n",
    "        return int(np.floor(self.total_samples / self.batch_size))\n",
    "  \n",
    "    def __getitem__(self, batch_index):          \n",
    "        'Generate one batch of data through dataset'\n",
    "        list_IDs_temp = self.indexes[batch_index * self.batch_size : (batch_index+1) * self.batch_size]\n",
    "        #print(index, list_IDs_temp)\n",
    "        # Generate data\n",
    "        X, y = self.__data_generation(list_IDs_temp)\n",
    "        #print('Yieded batch %d' % index)\n",
    "        return X, y\n",
    "\n",
    "    def on_epoch_end(self):\n",
    "        #'Updates indexes after each epoch'\n",
    "        if self.shuffle == True:\n",
    "            np.random.shuffle(self.indexes)\n",
    "\n",
    "    def __data_generation(self, list_IDs_temp):\n",
    "        'Generates data containing batch_size samples'\n",
    "        # Initialization\n",
    "        X = np.empty((self.batch_size, *self.dim, self.n_channels * self.n_input))\n",
    "        y = np.empty((self.batch_size, *self.dim, self.n_channels * self.n_output))\n",
    "        \n",
    "        for i, ID in enumerate(list_IDs_temp):  \n",
    "            inFrom = ID\n",
    "            inTo = inFrom + self.n_input\n",
    "            outFrom = inTo\n",
    "            outTo = outFrom + self.n_output\n",
    "            \n",
    "            X[i] = np.concatenate((self.ds[inFrom : inTo]), axis = 3)\n",
    "            y[i] = np.concatenate((self.ds[outFrom : outTo]), axis = 3)\n",
    "        return X, y"
   ]
  },
  {
   "cell_type": "code",
   "execution_count": null,
   "metadata": {},
   "outputs": [],
   "source": [
    "tsini=0\n",
    "tsend=200\n",
    "basepath = \"/home/bsc21/bsc21334/SCRATCH/aina-data/\"\n",
    "pathnpz = basepath + \"/NPZs/\"\n",
    "targetname = \"/case3.5.npz\"\n",
    "#path = basepath + \"/MODEL-%d-%d/\" % (tsini, tsend)\n",
    "path = basepath + \"/MODCHAN%d-%d-%d/\" % (n_output, tsini, tsend)\n",
    "if not os.path.exists(path):\n",
    "    os.mkdir(path)\n",
    "datapath = basepath + \"/DATAFULL-%d-%d/\" % (tsini, tsend)\n",
    "if not os.path.exists(datapath):\n",
    "    os.mkdir(datapath)"
   ]
  },
  {
   "cell_type": "markdown",
   "metadata": {},
   "source": [
    "## Load data from files\n",
    "Data is filtered and reshaped for scaling.\n",
    "First 200 samples are kept, while the rest of them are thirded.\n"
   ]
  },
  {
   "cell_type": "code",
   "execution_count": null,
   "metadata": {},
   "outputs": [],
   "source": [
    "#%%time\n",
    "with h5py.File(datapath + \"train.h5\",\"r\") as hf:\n",
    "    ds_ready = hf[\"dataset\"][:]\n",
    "#ds_ready = np.array(ds_ready, dtype=np.float16)"
   ]
  },
  {
   "cell_type": "code",
   "execution_count": 9,
   "metadata": {},
   "outputs": [
    {
     "name": "stdout",
     "output_type": "stream",
     "text": [
      "Dataset size in memory: 20.51 GB\n",
      "class:  ndarray\n",
      "shape:  (3, 24, 200, 117, 86, 38, 1)\n",
      "strides:  (7341235200, 305884800, 1529424, 13072, 152, 4, 4)\n",
      "itemsize:  4\n",
      "aligned:  True\n",
      "contiguous:  True\n",
      "fortran:  False\n",
      "data pointer: 0x7ff71b480010\n",
      "byteorder:  little\n",
      "byteswap:  False\n",
      "type: float32\n"
     ]
    }
   ],
   "source": [
    "print('Dataset size in memory: %0.2f GB' % (ds_ready.nbytes / 1024**3))\n",
    "np.info(ds_ready)"
   ]
  },
  {
   "cell_type": "markdown",
   "metadata": {},
   "source": [
    "## Define the ML model"
   ]
  },
  {
   "cell_type": "code",
   "execution_count": 11,
   "metadata": {},
   "outputs": [],
   "source": [
    "n_epochs=1000\n",
    "n_batch = 4\n",
    "trainratio = -4"
   ]
  },
  {
   "cell_type": "raw",
   "metadata": {},
   "source": [
    "### Channel X\n",
    "c = 0\n",
    "model = Sequential()\n",
    "model.add(Conv3D(64, kernel_size=(3, 3, 3), activation=leakyrelu, padding=\"same\", data_format=\"channels_last\", input_shape=(dimX, dimY, dimZ, n_input)))\n",
    "model.add(Conv3D(128, kernel_size=(3, 3, 3), activation=leakyrelu, padding=\"same\"))\n",
    "model.add(Conv3D(64, kernel_size=(3, 3, 3), activation=leakyrelu, padding=\"same\"))\n",
    "model.add(Dense(n_output))\n",
    "model.compile(loss='mae', optimizer='adam')#, metrics=[rmse, 'mae', 'mape'])\n",
    "model.save(path + \"/model%d.hdf5\" %  c)\n",
    "\n",
    "train = DataGenerator(ds_ready[c][:trainratio], \n",
    "                  batch_size=n_batch, dim=dims, n_channels=n_channels, \n",
    "                  shuffle=True, observation_samples=n_input, multistep=n_output)\n",
    "validation = DataGenerator(ds_ready[c][trainratio:], \n",
    "                  batch_size=n_batch, dim=dims, n_channels=n_channels, \n",
    "                  shuffle=True, observation_samples=n_input, multistep=n_output)\n",
    "print(len(train))\n",
    "print(len(validation))\n",
    "\n",
    "checkpoint_file= path + \"/weights%d.hdf5\" % c\n",
    "earlystop = tf.keras.callbacks.EarlyStopping(monitor='val_loss', patience=3, min_delta=0.0001, verbose=1, restore_best_weights = True)\n",
    "checkpoint = ModelCheckpoint(checkpoint_file, monitor='val_loss', verbose=1, save_best_only=True)\n",
    "callbacks_list = [earlystop, checkpoint]\n",
    "\n",
    "H = model.fit(train, validation_data=validation, epochs=n_epochs, verbose=1, shuffle=True, callbacks=callbacks_list)"
   ]
  },
  {
   "cell_type": "code",
   "execution_count": 14,
   "metadata": {},
   "outputs": [
    {
     "name": "stdout",
     "output_type": "stream",
     "text": [
      "Epoch 1/1000\n",
      "  2/940 [..............................] - ETA: 3:22 - loss: 0.3285WARNING:tensorflow:Callbacks method `on_train_batch_end` is slow compared to the batch time (batch time: 0.1354s vs `on_train_batch_end` time: 0.2969s). Check your callbacks.\n",
      "940/940 [==============================] - ETA: 0s - loss: 0.0565\n",
      "Epoch 00001: val_loss improved from inf to 0.14833, saving model to /home/bsc21/bsc21334/SCRATCH/aina-data//MODCHAN10-0-200/weights0.hdf5\n",
      "940/940 [==============================] - 448s 477ms/step - loss: 0.0565 - val_loss: 0.1483\n",
      "Epoch 2/1000\n",
      "940/940 [==============================] - ETA: 0s - loss: 0.1496\n",
      "Epoch 00002: val_loss improved from 0.14833 to 0.02093, saving model to /home/bsc21/bsc21334/SCRATCH/aina-data//MODCHAN10-0-200/weights0.hdf5\n",
      "940/940 [==============================] - 448s 476ms/step - loss: 0.1496 - val_loss: 0.0209\n",
      "Epoch 3/1000\n",
      "940/940 [==============================] - ETA: 0s - loss: 0.0234\n",
      "Epoch 00003: val_loss improved from 0.02093 to 0.01893, saving model to /home/bsc21/bsc21334/SCRATCH/aina-data//MODCHAN10-0-200/weights0.hdf5\n",
      "940/940 [==============================] - 449s 478ms/step - loss: 0.0234 - val_loss: 0.0189\n",
      "Epoch 4/1000\n",
      "940/940 [==============================] - ETA: 0s - loss: 0.0156\n",
      "Epoch 00004: val_loss improved from 0.01893 to 0.00993, saving model to /home/bsc21/bsc21334/SCRATCH/aina-data//MODCHAN10-0-200/weights0.hdf5\n",
      "940/940 [==============================] - 448s 477ms/step - loss: 0.0156 - val_loss: 0.0099\n",
      "Epoch 5/1000\n",
      "940/940 [==============================] - ETA: 0s - loss: 0.0130\n",
      "Epoch 00005: val_loss improved from 0.00993 to 0.00842, saving model to /home/bsc21/bsc21334/SCRATCH/aina-data//MODCHAN10-0-200/weights0.hdf5\n",
      "940/940 [==============================] - 452s 481ms/step - loss: 0.0130 - val_loss: 0.0084\n",
      "Epoch 6/1000\n",
      "940/940 [==============================] - ETA: 0s - loss: 0.0123\n",
      "Epoch 00006: val_loss did not improve from 0.00842\n",
      "940/940 [==============================] - 454s 483ms/step - loss: 0.0123 - val_loss: 0.0158\n",
      "Epoch 7/1000\n",
      "940/940 [==============================] - ETA: 0s - loss: 1.1052\n",
      "Epoch 00007: val_loss did not improve from 0.00842\n",
      "940/940 [==============================] - 453s 482ms/step - loss: 1.1052 - val_loss: 0.2134\n",
      "Epoch 8/1000\n",
      "940/940 [==============================] - ETA: 0s - loss: 0.0930\n",
      "Epoch 00008: val_loss did not improve from 0.00842\n",
      "Restoring model weights from the end of the best epoch.\n",
      "940/940 [==============================] - 453s 482ms/step - loss: 0.0930 - val_loss: 0.0255\n",
      "Epoch 00008: early stopping\n",
      "End of channel 0\n"
     ]
    },
    {
     "data": {
      "image/png": "[encoded data removed]",
      "text/plain": [
       "<Figure size 1152x576 with 1 Axes>"
      ]
     },
     "metadata": {},
     "output_type": "display_data"
    },
    {
     "name": "stdout",
     "output_type": "stream",
     "text": [
      "Epoch 1/1000\n",
      "  2/940 [..............................] - ETA: 3:24 - loss: 0.6434WARNING:tensorflow:Callbacks method `on_train_batch_end` is slow compared to the batch time (batch time: 0.1346s vs `on_train_batch_end` time: 0.3006s). Check your callbacks.\n",
      "940/940 [==============================] - ETA: 0s - loss: 0.0650\n",
      "Epoch 00001: val_loss improved from inf to 0.03929, saving model to /home/bsc21/bsc21334/SCRATCH/aina-data//MODCHAN10-0-200/weights1.hdf5\n",
      "940/940 [==============================] - 454s 483ms/step - loss: 0.0650 - val_loss: 0.0393\n",
      "Epoch 2/1000\n",
      "940/940 [==============================] - ETA: 0s - loss: 0.0332\n",
      "Epoch 00002: val_loss did not improve from 0.03929\n",
      "940/940 [==============================] - 453s 482ms/step - loss: 0.0332 - val_loss: 0.1149\n",
      "Epoch 3/1000\n",
      "940/940 [==============================] - ETA: 0s - loss: 0.0212\n",
      "Epoch 00003: val_loss improved from 0.03929 to 0.02061, saving model to /home/bsc21/bsc21334/SCRATCH/aina-data//MODCHAN10-0-200/weights1.hdf5\n",
      "940/940 [==============================] - 454s 483ms/step - loss: 0.0212 - val_loss: 0.0206\n",
      "Epoch 4/1000\n",
      "940/940 [==============================] - ETA: 0s - loss: 0.0177\n",
      "Epoch 00004: val_loss improved from 0.02061 to 0.01373, saving model to /home/bsc21/bsc21334/SCRATCH/aina-data//MODCHAN10-0-200/weights1.hdf5\n",
      "940/940 [==============================] - 453s 481ms/step - loss: 0.0177 - val_loss: 0.0137\n",
      "Epoch 5/1000\n",
      "940/940 [==============================] - ETA: 0s - loss: 0.0558\n",
      "Epoch 00005: val_loss did not improve from 0.01373\n",
      "940/940 [==============================] - 454s 483ms/step - loss: 0.0558 - val_loss: 0.2159\n",
      "Epoch 6/1000\n",
      "940/940 [==============================] - ETA: 0s - loss: 0.0366\n",
      "Epoch 00006: val_loss did not improve from 0.01373\n",
      "940/940 [==============================] - 452s 481ms/step - loss: 0.0366 - val_loss: 0.0208\n",
      "Epoch 7/1000\n",
      "940/940 [==============================] - ETA: 0s - loss: 0.0194\n",
      "Epoch 00007: val_loss did not improve from 0.01373\n",
      "Restoring model weights from the end of the best epoch.\n",
      "940/940 [==============================] - 454s 483ms/step - loss: 0.0194 - val_loss: 0.0185\n",
      "Epoch 00007: early stopping\n",
      "End of channel 1\n"
     ]
    },
    {
     "data": {
      "image/png": "[encoded data removed]",
      "text/plain": [
       "<Figure size 1152x576 with 1 Axes>"
      ]
     },
     "metadata": {},
     "output_type": "display_data"
    },
    {
     "name": "stdout",
     "output_type": "stream",
     "text": [
      "Epoch 1/1000\n",
      "  2/940 [..............................] - ETA: 3:24 - loss: 0.7322WARNING:tensorflow:Callbacks method `on_train_batch_end` is slow compared to the batch time (batch time: 0.1371s vs `on_train_batch_end` time: 0.2991s). Check your callbacks.\n",
      "940/940 [==============================] - ETA: 0s - loss: 0.0370\n",
      "Epoch 00001: val_loss improved from inf to 0.01456, saving model to /home/bsc21/bsc21334/SCRATCH/aina-data//MODCHAN10-0-200/weights2.hdf5\n",
      "940/940 [==============================] - 454s 483ms/step - loss: 0.0370 - val_loss: 0.0146\n",
      "Epoch 2/1000\n",
      "940/940 [==============================] - ETA: 0s - loss: 0.0208\n",
      "Epoch 00002: val_loss did not improve from 0.01456\n",
      "940/940 [==============================] - 455s 484ms/step - loss: 0.0208 - val_loss: 0.0147\n",
      "Epoch 3/1000\n",
      "940/940 [==============================] - ETA: 0s - loss: 0.0139\n",
      "Epoch 00003: val_loss improved from 0.01456 to 0.01202, saving model to /home/bsc21/bsc21334/SCRATCH/aina-data//MODCHAN10-0-200/weights2.hdf5\n",
      "940/940 [==============================] - 453s 481ms/step - loss: 0.0139 - val_loss: 0.0120\n",
      "Epoch 4/1000\n",
      "940/940 [==============================] - ETA: 0s - loss: 0.1568\n",
      "Epoch 00004: val_loss did not improve from 0.01202\n",
      "940/940 [==============================] - 454s 483ms/step - loss: 0.1568 - val_loss: 0.1463\n",
      "Epoch 5/1000\n",
      "940/940 [==============================] - ETA: 0s - loss: 0.0523\n",
      "Epoch 00005: val_loss did not improve from 0.01202\n",
      "940/940 [==============================] - 454s 483ms/step - loss: 0.0523 - val_loss: 0.0309\n",
      "Epoch 6/1000\n",
      "940/940 [==============================] - ETA: 0s - loss: 0.0287\n",
      "Epoch 00006: val_loss did not improve from 0.01202\n",
      "Restoring model weights from the end of the best epoch.\n",
      "940/940 [==============================] - 455s 484ms/step - loss: 0.0287 - val_loss: 0.0193\n",
      "Epoch 00006: early stopping\n",
      "End of channel 2\n"
     ]
    },
    {
     "data": {
      "image/png": "[encoded data removed]",
      "text/plain": [
       "<Figure size 1152x576 with 1 Axes>"
      ]
     },
     "metadata": {},
     "output_type": "display_data"
    },
    {
     "name": "stdout",
     "output_type": "stream",
     "text": [
      "CPU times: user 2h 30min 23s, sys: 33min 57s, total: 3h 4min 21s\n",
      "Wall time: 2h 38min 46s\n"
     ]
    }
   ],
   "source": [
    "%%time\n",
    "for c in range(0,3):\n",
    "    model = Sequential()\n",
    "    model.add(Conv3D(64, kernel_size=(3, 3, 3), activation=leakyrelu, padding=\"same\", data_format=\"channels_last\", input_shape=(dimX, dimY, dimZ, n_input)))\n",
    "    #model.add(Dropout(0.95))\n",
    "    #model.add(Conv3D(64, kernel_size=(3, 3, 3), activation=leakyrelu, padding=\"same\"))\n",
    "    #model.add(Dropout(0.95))\n",
    "    model.add(Conv3D(128, kernel_size=(3, 3, 3), activation=leakyrelu, padding=\"same\"))\n",
    "    #model.add(Dropout(0.95))\n",
    "    #model.add(Conv3D(128, kernel_size=(3, 3, 3), activation=leakyrelu, padding=\"same\"))\n",
    "    model.add(Conv3D(64, kernel_size=(3, 3, 3), activation=leakyrelu, padding=\"same\"))\n",
    "    #model.add(Dropout(0.95))\n",
    "    #model.add(Conv3D(32, kernel_size=(3, 3, 3), activation=leakyrelu, padding=\"same\"))\n",
    "    #model.add(Dropout(0.95))\n",
    "    model.add(Dense(n_output))\n",
    "    model.compile(loss='mse', optimizer='adam')#, metrics=[rmse, 'mae', 'mape'])\n",
    "    model.save(path + \"/model%d.hdf5\" %  c)\n",
    "    \n",
    "    train = DataGenerator(ds_ready[c][:trainratio], \n",
    "    #train = DataGenerator(ds_ready[c], \n",
    "                      batch_size=n_batch, dim=dims, n_channels=n_channels, \n",
    "                      shuffle=True, observation_samples=n_input, multistep=n_output)\n",
    "    validation = DataGenerator(ds_ready[c][trainratio:], \n",
    "                      batch_size=n_batch, dim=dims, n_channels=n_channels, \n",
    "                      shuffle=True, observation_samples=n_input, multistep=n_output)\n",
    "    #print(len(train))\n",
    "    #print(len(validation))\n",
    "\n",
    "    checkpoint_file = path + \"/weights%d.hdf5\" % c\n",
    "    earlystop = tf.keras.callbacks.EarlyStopping(monitor='val_loss', patience=3, min_delta=0.0001, verbose=1, restore_best_weights = True)\n",
    "    checkpoint = ModelCheckpoint(checkpoint_file, monitor='val_loss', verbose=1, save_best_only=True)\n",
    "    callbacks_list = [checkpoint, earlystop]\n",
    "\n",
    "    H = model.fit(train, validation_data=validation, epochs=n_epochs, verbose=1, shuffle=True, callbacks=callbacks_list)\n",
    "    #H = model.fit(train, epochs=n_epochs, verbose=1, shuffle=True)#, callbacks=callbacks_list)\n",
    "    print(\"End of channel\", c)\n",
    "    model.save_weights(checkpoint_file)\n",
    "    \n",
    "    hist = H.history\n",
    "    plt.style.use(\"ggplot\")\n",
    "    plt.figure(figsize=(16,8))\n",
    "    plt.plot(hist[\"loss\"], label=\"Loss (MSE)\")\n",
    "    plt.plot(hist[\"val_loss\"], label=\"Val Loss (MSE)\")\n",
    "    plt.title(\"Training Errors on Dataset\")\n",
    "    plt.xlabel(\"Epoch #\")\n",
    "    plt.ylabel(\"Error\")\n",
    "    plt.legend()\n",
    "    plt.ylim(0,0.1)\n",
    "    #plt.xlim(0,8)\n",
    "    plt.savefig(path + \"/plot%d.png\" % c)\n",
    "    plt.show()"
   ]
  },
  {
   "cell_type": "code",
   "execution_count": null,
   "metadata": {},
   "outputs": [],
   "source": [
    "import os\n",
    "os._exit(00)"
   ]
  },
  {
   "cell_type": "markdown",
   "metadata": {},
   "source": [
    "\n",
    "\n",
    "## Load model"
   ]
  },
  {
   "cell_type": "code",
   "execution_count": 11,
   "metadata": {},
   "outputs": [
    {
     "name": "stdout",
     "output_type": "stream",
     "text": [
      "Model: \"sequential_3\"\n",
      "_________________________________________________________________\n",
      "Layer (type)                 Output Shape              Param #   \n",
      "=================================================================\n",
      "conv3d_9 (Conv3D)            (None, 117, 86, 38, 64)   5248      \n",
      "_________________________________________________________________\n",
      "conv3d_10 (Conv3D)           (None, 117, 86, 38, 128)  221312    \n",
      "_________________________________________________________________\n",
      "conv3d_11 (Conv3D)           (None, 117, 86, 38, 64)   221248    \n",
      "_________________________________________________________________\n",
      "dense_3 (Dense)              (None, 117, 86, 38, 10)   650       \n",
      "=================================================================\n",
      "Total params: 448,458\n",
      "Trainable params: 448,458\n",
      "Non-trainable params: 0\n",
      "_________________________________________________________________\n"
     ]
    }
   ],
   "source": [
    "from keras.utils import plot_model\n",
    "from IPython.display import Image \n",
    "\n",
    "c = 0\n",
    "\n",
    "model = load_model(path + \"model%d.hdf5\" % c, custom_objects={'<lambda>': leakyrelu})\n",
    "model.load_weights(path + \"weights%d.hdf5\" % c)\n",
    "\n",
    "plot_model(model, show_shapes=True, show_layer_names=True, to_file='model.png')\n",
    "Image('model.png')\n",
    "\n",
    "model.summary()"
   ]
  },
  {
   "cell_type": "code",
   "execution_count": 6,
   "metadata": {},
   "outputs": [
    {
     "name": "stdout",
     "output_type": "stream",
     "text": [
      "(3, 7, 200, 117, 86, 38, 1)\n"
     ]
    }
   ],
   "source": [
    "with h5py.File(datapath + \"test.h5\",\"r\") as hf:\n",
    "    ds_ready = hf[\"dataset\"][:]\n",
    "print(ds_ready.shape)\n",
    "#case35ds = ds_ready[:,0,:,:,:,:,:]\n",
    "#print(case35ds.shape)"
   ]
  },
  {
   "cell_type": "code",
   "execution_count": 8,
   "metadata": {},
   "outputs": [
    {
     "name": "stdout",
     "output_type": "stream",
     "text": [
      "329/329 [==============================] - 60s 183ms/step - loss: 0.0085\n",
      "329/329 [==============================] - 60s 183ms/step - loss: 0.0132\n",
      "329/329 [==============================] - 61s 184ms/step - loss: 0.0126\n"
     ]
    }
   ],
   "source": [
    "n_batch = 4\n",
    "n_channels = 1\n",
    "\n",
    "for c in range(0,3):\n",
    "    model = load_model(path + \"model%d.hdf5\" % c, custom_objects={'<lambda>': leakyrelu})\n",
    "    model.load_weights(path + \"weights%d.hdf5\" % c)\n",
    "    test = DataGenerator(ds_ready[c][:], \n",
    "                      batch_size=n_batch, dim=dims, n_channels=n_channels, \n",
    "                      shuffle=False, observation_samples=n_input, multistep=n_output)\n",
    "    model.evaluate(test, verbose=1)"
   ]
  },
  {
   "cell_type": "code",
   "execution_count": 25,
   "metadata": {},
   "outputs": [
    {
     "name": "stdout",
     "output_type": "stream",
     "text": [
      "Channel 0\n",
      "\t\tFrom 188 samples: Min error: 8.56E-04, Max error: 7.53E-02, Mean error: 6.01E-03, Std error: 9.28E-03\n",
      "Channel 1\n",
      "\t\tFrom 188 samples: Min error: 1.50E-03, Max error: 6.18E-02, Mean error: 1.12E-02, Std error: 1.41E-02\n",
      "Channel 2\n",
      "\t\tFrom 188 samples: Min error: 1.78E-03, Max error: 1.23E-01, Mean error: 1.68E-02, Std error: 2.42E-02\n"
     ]
    }
   ],
   "source": [
    "n_batch = 1\n",
    "for c in range(0,3):\n",
    "    print(\"Channel %d\" % c)\n",
    "    results = []\n",
    "    ds_test = ds_ready[c][0]\n",
    "    samples = n_input + n_output - 1\n",
    "    for offset in range(len(ds_test) - samples):\n",
    "        samples = n_input + offset + n_output + 1\n",
    "        #print(offset, samples)\n",
    "        test = DataGenerator(np.expand_dims(ds_test[offset : samples], axis=0), batch_size=n_batch, \n",
    "                            dim=dims, n_channels=n_channels, shuffle=False, observation_samples=n_input, \n",
    "                             multistep = n_output)\n",
    "        results.append(model.evaluate(test, verbose=0))\n",
    "        \n",
    "    print(\"\\t\\tFrom %d samples: Min error: %.2E, Max error: %.2E, Mean error: %.2E, Std error: %.2E\" % \n",
    "                                  (len(results), Decimal(float(np.min(results))), Decimal(float(np.max(results))), \n",
    "                                   Decimal(float(np.mean(results))), Decimal(float(np.std(results)))))"
   ]
  },
  {
   "cell_type": "code",
   "execution_count": 32,
   "metadata": {},
   "outputs": [
    {
     "name": "stdout",
     "output_type": "stream",
     "text": [
      "Channel 0\n",
      "\tCase 0\n",
      "\t\tFrom 188 samples: Min error: 8.56E-04, Max error: 7.53E-02, Mean error: 6.01E-03, Std error: 9.28E-03\n",
      "\tCase 1\n",
      "\t\tFrom 188 samples: Min error: 8.31E-04, Max error: 6.75E-02, Mean error: 6.21E-03, Std error: 9.50E-03\n",
      "\tCase 2\n",
      "\t\tFrom 188 samples: Min error: 9.41E-04, Max error: 1.03E-01, Mean error: 5.97E-03, Std error: 1.06E-02\n",
      "\tCase 3\n",
      "\t\tFrom 188 samples: Min error: 5.77E-03, Max error: 9.44E-02, Mean error: 1.07E-02, Std error: 9.41E-03\n",
      "\tCase 4\n",
      "\t\tFrom 188 samples: Min error: 8.31E-04, Max error: 6.75E-02, Mean error: 6.21E-03, Std error: 9.50E-03\n",
      "\tCase 5\n",
      "\t\tFrom 188 samples: Min error: 8.31E-04, Max error: 6.75E-02, Mean error: 6.21E-03, Std error: 9.50E-03\n",
      "\tCase 6\n",
      "\t\tFrom 188 samples: Min error: 9.41E-04, Max error: 1.03E-01, Mean error: 5.97E-03, Std error: 1.06E-02\n",
      "From 7 cases: Min error: 8.31E-04, Max error: 1.03E-01, Mean error: 6.75E-03, Std error: 5.20E-04\n",
      "Channel 1\n",
      "\tCase 0\n",
      "\t\tFrom 188 samples: Min error: 1.50E-03, Max error: 6.18E-02, Mean error: 1.12E-02, Std error: 1.41E-02\n",
      "\tCase 1\n",
      "\t\tFrom 188 samples: Min error: 1.74E-03, Max error: 6.53E-02, Mean error: 1.27E-02, Std error: 1.57E-02\n",
      "\tCase 2\n",
      "\t\tFrom 188 samples: Min error: 1.99E-03, Max error: 2.37E-01, Mean error: 1.47E-02, Std error: 2.65E-02\n",
      "\tCase 3\n",
      "\t\tFrom 188 samples: Min error: 2.23E-03, Max error: 6.65E-02, Mean error: 1.10E-02, Std error: 1.32E-02\n",
      "\tCase 4\n",
      "\t\tFrom 188 samples: Min error: 1.74E-03, Max error: 6.53E-02, Mean error: 1.27E-02, Std error: 1.57E-02\n",
      "\tCase 5\n",
      "\t\tFrom 188 samples: Min error: 1.74E-03, Max error: 6.53E-02, Mean error: 1.27E-02, Std error: 1.57E-02\n",
      "\tCase 6\n",
      "\t\tFrom 188 samples: Min error: 1.99E-03, Max error: 2.37E-01, Mean error: 1.47E-02, Std error: 2.65E-02\n",
      "From 7 cases: Min error: 1.50E-03, Max error: 2.37E-01, Mean error: 1.28E-02, Std error: 5.33E-03\n",
      "Channel 2\n",
      "\tCase 0\n",
      "\t\tFrom 188 samples: Min error: 1.78E-03, Max error: 1.23E-01, Mean error: 1.68E-02, Std error: 2.42E-02\n",
      "\tCase 1\n",
      "\t\tFrom 188 samples: Min error: 2.19E-03, Max error: 1.35E-01, Mean error: 1.89E-02, Std error: 2.75E-02\n",
      "\tCase 2\n",
      "\t\tFrom 188 samples: Min error: 2.20E-03, Max error: 1.74E-01, Mean error: 1.48E-02, Std error: 2.44E-02\n",
      "\tCase 3\n",
      "\t\tFrom 188 samples: Min error: 1.82E-03, Max error: 1.13E-01, Mean error: 1.53E-02, Std error: 2.14E-02\n",
      "\tCase 4\n",
      "\t\tFrom 188 samples: Min error: 2.19E-03, Max error: 1.35E-01, Mean error: 1.89E-02, Std error: 2.75E-02\n",
      "\tCase 5\n",
      "\t\tFrom 188 samples: Min error: 2.19E-03, Max error: 1.35E-01, Mean error: 1.89E-02, Std error: 2.75E-02\n",
      "\tCase 6\n",
      "\t\tFrom 188 samples: Min error: 2.20E-03, Max error: 1.74E-01, Mean error: 1.48E-02, Std error: 2.44E-02\n",
      "From 7 cases: Min error: 1.78E-03, Max error: 1.74E-01, Mean error: 1.69E-02, Std error: 2.16E-03\n"
     ]
    }
   ],
   "source": [
    "n_batch = 1\n",
    "for c in range(0,3):\n",
    "    print(\"Channel %d\" % c)\n",
    "    mins = []\n",
    "    maxs = []\n",
    "    means = []\n",
    "    stds = []\n",
    "    for case in range(len(ds_ready[c])):\n",
    "        print(\"\\tCase %d\" % case)\n",
    "        results = []\n",
    "        ds_test = ds_ready[c][case]\n",
    "        samples = n_input + n_output - 1\n",
    "        for offset in range(len(ds_test) - samples):\n",
    "            samples = n_input + offset + n_output + 1\n",
    "            #print(offset, samples)\n",
    "            test = DataGenerator(np.expand_dims(ds_test[offset : samples], axis=0), batch_size=n_batch, \n",
    "                                dim=dims, n_channels=n_channels, shuffle=False, observation_samples=n_input, \n",
    "                                 multistep = n_output)\n",
    "            results.append(model.evaluate(test, verbose=0))\n",
    "        \n",
    "        mins.append(Decimal(float(np.min(results))))\n",
    "        maxs.append(Decimal(float(np.max(results))))\n",
    "        means.append(Decimal(float(np.mean(results))))\n",
    "        stds.append(Decimal(float(np.std(results))))\n",
    "        print(\"\\t\\tFrom %d samples: Min error: %.2E, Max error: %.2E, Mean error: %.2E, Std error: %.2E\" % \n",
    "                                      (len(results), mins[-1], maxs[-1], means[-1], stds[-1]))\n",
    "\n",
    "    print(\"From %d cases: Min error: %.2E, Max error: %.2E, Mean error: %.2E, Std error: %.2E\" % \n",
    "                                      (len(mins), Decimal(float(np.min(mins))), \n",
    "                                       Decimal(float(np.max(maxs))), \n",
    "                                       Decimal(float(np.mean(means))), \n",
    "                                       Decimal(float(np.std(stds)))))        "
   ]
  },
  {
   "cell_type": "code",
   "execution_count": null,
   "metadata": {},
   "outputs": [],
   "source": []
  },
  {
   "cell_type": "code",
   "execution_count": null,
   "metadata": {},
   "outputs": [],
   "source": []
  },
  {
   "cell_type": "code",
   "execution_count": null,
   "metadata": {},
   "outputs": [],
   "source": []
  },
  {
   "cell_type": "code",
   "execution_count": null,
   "metadata": {},
   "outputs": [],
   "source": []
  },
  {
   "cell_type": "code",
   "execution_count": null,
   "metadata": {},
   "outputs": [],
   "source": []
  },
  {
   "cell_type": "code",
   "execution_count": null,
   "metadata": {},
   "outputs": [],
   "source": []
  },
  {
   "cell_type": "code",
   "execution_count": null,
   "metadata": {},
   "outputs": [],
   "source": []
  },
  {
   "cell_type": "code",
   "execution_count": 10,
   "metadata": {},
   "outputs": [
    {
     "name": "stdout",
     "output_type": "stream",
     "text": [
      "/home/bsc21/bsc21334/SCRATCH/aina-data//NPZs//case3.5.npz\n",
      "(200, 117, 86, 38, 3)\n",
      "(76471200, 3)\n",
      "CPU times: user 14.6 s, sys: 834 ms, total: 15.5 s\n",
      "Wall time: 15.6 s\n"
     ]
    }
   ],
   "source": [
    "%%time\n",
    "samples_per_case = []\n",
    "ds = []\n",
    "filename = pathnpz + targetname\n",
    "print(filename)\n",
    "ds = np.load(filename)\n",
    "ds = np.array(ds.f.data[tsini:tsend])\n",
    "print(ds.shape)\n",
    "ds = ds.reshape(ds.shape[0] * ds.shape[1] * ds.shape[2] * ds.shape[3], ds.shape[4])\n",
    "\n",
    "#ds= np.array(ds)\n",
    "print(ds.shape)"
   ]
  },
  {
   "cell_type": "code",
   "execution_count": 13,
   "metadata": {},
   "outputs": [],
   "source": [
    "dsX = ds[:, 0]\n",
    "dsX = dsX.reshape((-1, n_cells))\n",
    "dsY = ds[:, 1]\n",
    "dsY = dsY.reshape((-1, n_cells))\n",
    "dsZ = ds[:, 2]\n",
    "dsZ = dsZ.reshape((-1, n_cells))"
   ]
  },
  {
   "cell_type": "code",
   "execution_count": 14,
   "metadata": {},
   "outputs": [],
   "source": [
    "scalerX = load(path + '/scalerX.joblib')\n",
    "scalerY = load(path + '/scalerY.joblib')\n",
    "scalerZ = load(path + '/scalerZ.joblib')"
   ]
  },
  {
   "cell_type": "code",
   "execution_count": 15,
   "metadata": {},
   "outputs": [],
   "source": [
    "dsX = scalerX.transform(dsX)\n",
    "dsX = dsX.reshape(-1, dimX, dimY, dimZ, 1)\n",
    "dsY = scalerY.transform(dsY)\n",
    "dsY = dsY.reshape(-1, dimX, dimY, dimZ, 1)\n",
    "dsZ = scalerZ.transform(dsZ)\n",
    "dsZ = dsZ.reshape(-1, dimX, dimY, dimZ, 1)"
   ]
  },
  {
   "cell_type": "code",
   "execution_count": null,
   "metadata": {},
   "outputs": [],
   "source": []
  },
  {
   "cell_type": "code",
   "execution_count": null,
   "metadata": {},
   "outputs": [],
   "source": []
  },
  {
   "cell_type": "code",
   "execution_count": null,
   "metadata": {},
   "outputs": [],
   "source": []
  },
  {
   "cell_type": "code",
   "execution_count": 12,
   "metadata": {},
   "outputs": [],
   "source": [
    "for c in range(0,3):\n",
    "    model = load_model(path + \"model%d.hdf5\" % c, custom_objects={'<lambda>': leakyrelu})\n",
    "    model.load_weights(path + \"weights%d.hdf5\" % c)"
   ]
  },
  {
   "cell_type": "code",
   "execution_count": null,
   "metadata": {},
   "outputs": [],
   "source": []
  },
  {
   "cell_type": "code",
   "execution_count": null,
   "metadata": {},
   "outputs": [],
   "source": []
  },
  {
   "cell_type": "code",
   "execution_count": null,
   "metadata": {},
   "outputs": [],
   "source": []
  },
  {
   "cell_type": "code",
   "execution_count": 7,
   "metadata": {},
   "outputs": [
    {
     "name": "stdout",
     "output_type": "stream",
     "text": [
      "Model: \"sequential_3\"\n",
      "_________________________________________________________________\n",
      "Layer (type)                 Output Shape              Param #   \n",
      "=================================================================\n",
      "conv3d_9 (Conv3D)            (None, 117, 86, 38, 64)   5248      \n",
      "_________________________________________________________________\n",
      "conv3d_10 (Conv3D)           (None, 117, 86, 38, 128)  221312    \n",
      "_________________________________________________________________\n",
      "conv3d_11 (Conv3D)           (None, 117, 86, 38, 64)   221248    \n",
      "_________________________________________________________________\n",
      "dense_3 (Dense)              (None, 117, 86, 38, 10)   650       \n",
      "=================================================================\n",
      "Total params: 448,458\n",
      "Trainable params: 448,458\n",
      "Non-trainable params: 0\n",
      "_________________________________________________________________\n"
     ]
    }
   ],
   "source": [
    "model = load_model(path + \"model0.hdf5\", custom_objects={'<lambda>': leakyrelu})\n",
    "model.summary()\n",
    "model.load_weights(path + \"weights0.hdf5\")"
   ]
  },
  {
   "cell_type": "code",
   "execution_count": 8,
   "metadata": {},
   "outputs": [
    {
     "data": {
      "image/png": "[encoded data removed]",
      "text/plain": [
       "<IPython.core.display.Image object>"
      ]
     },
     "execution_count": 8,
     "metadata": {},
     "output_type": "execute_result"
    }
   ],
   "source": [
    "from keras.utils import plot_model\n",
    "from IPython.display import Image \n",
    "\n",
    "plot_model(model, show_shapes=True, show_layer_names=True, to_file='model.png')\n",
    "Image('model.png')"
   ]
  },
  {
   "cell_type": "code",
   "execution_count": null,
   "metadata": {},
   "outputs": [],
   "source": [
    "dsX = ds[:, 0]\n",
    "dsX = dsX.reshape((-1, n_cells))\n",
    "dsY = ds[:, 1]\n",
    "dsY = dsY.reshape((-1, n_cells))\n",
    "dsZ = ds[:, 2]\n",
    "dsZ = dsZ.reshape((-1, n_cells))"
   ]
  },
  {
   "cell_type": "code",
   "execution_count": null,
   "metadata": {},
   "outputs": [],
   "source": [
    "#dsX = scalerX.transform(dsX)\n",
    "dsX = dsX.reshape(-1, dimX, dimY, dimZ, 1)\n",
    "#dsY = scalerY.transform(dsY)\n",
    "dsY = dsY.reshape(-1, dimX, dimY, dimZ, 1)\n",
    "#dsZ = scalerZ.transform(dsZ)\n",
    "dsZ = dsZ.reshape(-1, dimX, dimY, dimZ, 1)"
   ]
  },
  {
   "cell_type": "code",
   "execution_count": null,
   "metadata": {},
   "outputs": [],
   "source": [
    "ds_test = np.concatenate((dsX, dsY, dsZ), axis=4)\n",
    "ds_test.shape"
   ]
  },
  {
   "cell_type": "code",
   "execution_count": null,
   "metadata": {},
   "outputs": [],
   "source": [
    "with h5py.File(datapath + \"test.h5\", \"w\") as hf:\n",
    "    hf.create_dataset(\"dataset\",  data=ds_test)"
   ]
  },
  {
   "cell_type": "code",
   "execution_count": null,
   "metadata": {},
   "outputs": [],
   "source": [
    "%%time\n",
    "with h5py.File(datapath + \"test.h5\",\"r\") as hf:\n",
    "    ds_test = hf[\"dataset\"][:]"
   ]
  },
  {
   "cell_type": "markdown",
   "metadata": {},
   "source": [
    "## Evaluation"
   ]
  },
  {
   "cell_type": "code",
   "execution_count": null,
   "metadata": {},
   "outputs": [],
   "source": [
    "%%time\n",
    "n_batch = 1\n",
    "results = []\n",
    "samples = n_input + n_output - 1\n",
    "for offset in range(len(ds_test) - samples):\n",
    "    samples = n_input + offset + n_output + 1\n",
    "    #print(offset, samples)\n",
    "    test = DataGenerator(np.expand_dims(ds_test[offset : samples], axis=0), batch_size=n_batch, dim=dims, n_channels=n_channels, shuffle=False, observation_samples=n_input, multistep = n_output)\n",
    "    results.append(model.evaluate(test, verbose=0))"
   ]
  },
  {
   "cell_type": "code",
   "execution_count": null,
   "metadata": {},
   "outputs": [],
   "source": [
    "print(\"From %d samples: Min error: %.2E, Max error: %.2E, Mean error: %.2E, Std error: %.2E\" % \n",
    "      (len(results), Decimal(float(np.min(results))), Decimal(float(np.max(results))), \n",
    "       Decimal(float(np.mean(results))), Decimal(float(np.std(results)))))"
   ]
  },
  {
   "cell_type": "code",
   "execution_count": null,
   "metadata": {},
   "outputs": [],
   "source": [
    "plt.style.use(\"ggplot\")\n",
    "plt.figure(figsize=(16,8))\n",
    "plt.plot(results, label=\"MSE\")\n",
    "plt.title(\"Error per predicted timesteps\")\n",
    "plt.xlabel(\"Timestep\")\n",
    "plt.ylabel(\"Error\")\n",
    "plt.legend()\n",
    "#plt.ylim(0,0.1)\n",
    "plt.show()"
   ]
  },
  {
   "cell_type": "markdown",
   "metadata": {},
   "source": [
    "## Prediction"
   ]
  },
  {
   "cell_type": "code",
   "execution_count": null,
   "metadata": {},
   "outputs": [],
   "source": [
    "test = DataGenerator(np.expand_dims(ds_test, axis=0), batch_size=1, dim=dims, n_channels=n_channels, shuffle=False, observation_samples=n_input, multistep = n_output)\n",
    "pred_output = model.predict(test, verbose=1)\n",
    "pred_output = np.array(pred_output) #, dtype=np.float16)"
   ]
  },
  {
   "cell_type": "markdown",
   "metadata": {},
   "source": [
    "## Inverse scaling of test and prediction dataset"
   ]
  },
  {
   "cell_type": "code",
   "execution_count": null,
   "metadata": {},
   "outputs": [],
   "source": [
    "y_pred = pred_output.reshape(-1, n_output, dimX, dimY, dimZ, n_channels)\n",
    "y_pred.shape"
   ]
  },
  {
   "cell_type": "code",
   "execution_count": null,
   "metadata": {},
   "outputs": [],
   "source": [
    "y_test = []\n",
    "#samples = n_input + n_output - 1\n",
    "for offset in range(n_input, len(ds_test)-n_output+1):\n",
    "    samples = offset + n_output\n",
    "    y_test.append(ds_test[offset:samples])\n",
    "y_test = np.array(y_test)\n",
    "y_test.shape"
   ]
  },
  {
   "cell_type": "code",
   "execution_count": null,
   "metadata": {},
   "outputs": [],
   "source": [
    "test_output = y_test\n",
    "pred_output = y_pred\n",
    "print(ds_test.shape)\n",
    "print(test_output.shape)\n",
    "print(pred_output.shape)"
   ]
  },
  {
   "cell_type": "code",
   "execution_count": null,
   "metadata": {},
   "outputs": [],
   "source": [
    "mean_squared_error(test_output.reshape(-1,n_cells), pred_output.reshape(-1, n_cells))"
   ]
  },
  {
   "cell_type": "code",
   "execution_count": null,
   "metadata": {},
   "outputs": [],
   "source": [
    "dsX_test = test_output[:,:,:,:,:,0].reshape(-1, n_cells)\n",
    "scalerX.inverse_transform(dsX_test)\n",
    "dsX_pred = pred_output[:,:,:,:,:,0].reshape(-1, n_cells)\n",
    "scalerX.inverse_transform(dsX_pred)\n",
    "\n",
    "dsY_test = test_output[:,:,:,:,:,1].reshape(-1, n_cells)\n",
    "scalerY.inverse_transform(dsY_test)\n",
    "dsY_pred = pred_output[:,:,:,:,:,1].reshape(-1, n_cells)\n",
    "scalerY.inverse_transform(dsY_pred)\n",
    "\n",
    "dsZ_test = test_output[:,:,:,:,:,2].reshape(-1, n_cells)\n",
    "scalerZ.inverse_transform(dsZ_test)\n",
    "dsZ_pred = pred_output[:,:,:,:,:,2].reshape(-1, n_cells)\n",
    "scalerZ.inverse_transform(dsZ_pred)\n",
    "\n",
    "print(dsX_test.shape)\n",
    "print(dsX_pred.shape)"
   ]
  },
  {
   "cell_type": "markdown",
   "metadata": {},
   "source": [
    "## Error calculation per timestep and channel"
   ]
  },
  {
   "cell_type": "code",
   "execution_count": null,
   "metadata": {},
   "outputs": [],
   "source": [
    "%%time\n",
    "print(\"Range test dataset X [%0.2f:%0.2f]\" % (np.min(dsX_test), np.max(dsX_test)))\n",
    "print(\"Range predicted dataset X [%0.2f:%0.2f]\" % (np.min(dsX_pred), np.max(dsX_pred)))\n",
    "#mse = mean_squared_error(dsX_test, dsX_pred)\n",
    "#print(\"MSE: %.2E\" % Decimal(float(mse)))\n",
    "msesX = []\n",
    "for ts in range(len(dsX_test)):\n",
    "    tsX_test = dsX_test[ts]\n",
    "    tsX_pred = dsX_pred[ts]\n",
    "    #print(tsX_pred.shape)\n",
    "    msesX.append(mean_squared_error(tsX_test, tsX_pred))\n",
    "msesX = np.array(msesX)\n",
    "#print(msesX.shape)\n",
    "print(\"Min error: %.2E, Max error: %.2E, Mean error: %.2E, Std error: %.2E\" % \n",
    "      (Decimal(float(np.min(msesX))), Decimal(float(np.max(msesX))), \n",
    "       Decimal(float(np.mean(msesX))), Decimal(float(np.std(msesX)))))"
   ]
  },
  {
   "cell_type": "code",
   "execution_count": null,
   "metadata": {},
   "outputs": [],
   "source": [
    "%%time\n",
    "print(\"Range test dataset Y [%0.2f:%0.2f]\" % (np.min(dsY_test), np.max(dsY_test)))\n",
    "print(\"Range predicted dataset Y [%0.2f:%0.2f]\" % (np.min(dsY_pred), np.max(dsY_pred)))\n",
    "#mse = mean_squared_error(dsY_test, dsY_pred)\n",
    "#print(\"MSE: %.2E\" % Decimal(float(mse)))\n",
    "msesY = []\n",
    "for ts in range(len(dsY_test)):\n",
    "    tsY_test = dsY_test[ts]\n",
    "    tsY_pred = dsY_pred[ts]\n",
    "    msesY.append(mean_squared_error(tsY_test, tsY_pred))\n",
    "msesY = np.array(msesY)\n",
    "print(\"Min error: %.2E, Max error: %.2E, Mean error: %.2E, Std error: %.2E\" % \n",
    "      (Decimal(float(np.min(msesY))), Decimal(float(np.max(msesY))), \n",
    "       Decimal(float(np.mean(msesY))), Decimal(float(np.std(msesY)))))"
   ]
  },
  {
   "cell_type": "code",
   "execution_count": null,
   "metadata": {},
   "outputs": [],
   "source": [
    "%time\n",
    "print(\"Range test dataset Z [%0.2f:%0.2f]\" % (np.min(dsZ_test), np.max(dsZ_test)))\n",
    "print(\"Range predicted dataset Z [%0.2f:%0.2f]\" % (np.min(dsZ_pred), np.max(dsZ_pred)))\n",
    "#mse = mean_squared_error(dsZ_test, dsZ_pred)\n",
    "#print(\"MSE: %.2E\" % Decimal(float(mse)))\n",
    "msesZ = []\n",
    "for ts in range(len(dsZ_test)):\n",
    "    tsZ_test = dsZ_test[ts]\n",
    "    tsZ_pred = dsZ_pred[ts]\n",
    "    msesZ.append(mean_squared_error(tsZ_test, tsZ_pred))\n",
    "msesZ = np.array(msesZ)\n",
    "print(\"Min error: %.2E, Max error: %.2E, Mean error: %.2E, Std error: %.2E\" % \n",
    "      (Decimal(float(np.min(msesZ))), Decimal(float(np.max(msesZ))), \n",
    "       Decimal(float(np.mean(msesZ))), Decimal(float(np.std(msesZ)))))"
   ]
  },
  {
   "cell_type": "code",
   "execution_count": null,
   "metadata": {},
   "outputs": [],
   "source": [
    "plt.style.use(\"ggplot\")\n",
    "plt.figure(figsize=(16,8))\n",
    "plt.plot(msesX, label=\"X\")\n",
    "plt.plot(msesY, label=\"Y\")\n",
    "plt.plot(msesZ, label=\"Z\")\n",
    "plt.title(\"Error per predicted timesteps and channel\")\n",
    "plt.xlabel(\"Timestep\")\n",
    "plt.ylabel(\"MSE\")\n",
    "plt.legend()\n",
    "#plt.ylim(0,0.01)\n",
    "#plt.xlim(0,200)\n",
    "plt.show()"
   ]
  },
  {
   "cell_type": "code",
   "execution_count": null,
   "metadata": {},
   "outputs": [],
   "source": [
    "output_file = datapath + \"/prediction\"\n",
    "data = pred_output[90]\n",
    "print(\"Saving file: %s.npz, with shape:\" % (output_file), data.shape)\n",
    "savez_compressed(output_file, data=data, header=None)"
   ]
  },
  {
   "cell_type": "code",
   "execution_count": null,
   "metadata": {},
   "outputs": [],
   "source": [
    "import os\n",
    "os._exit(00)"
   ]
  }
 ],
 "metadata": {
  "kernelspec": {
   "display_name": "Python 3",
   "language": "python",
   "name": "python3"
  },
  "language_info": {
   "codemirror_mode": {
    "name": "ipython",
    "version": 3
   },
   "file_extension": ".py",
   "mimetype": "text/x-python",
   "name": "python",
   "nbconvert_exporter": "python",
   "pygments_lexer": "ipython3",
   "version": "3.7.4"
  }
 },
 "nbformat": 4,
 "nbformat_minor": 4
}
