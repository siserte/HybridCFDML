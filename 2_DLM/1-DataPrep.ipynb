{
 "cells": [
  {
   "cell_type": "markdown",
   "metadata": {},
   "source": [
    "\n",
    "# Dataset split train and test with timeseries generator"
   ]
  },
  {
   "cell_type": "markdown",
   "metadata": {},
   "source": [
    "## Import libraries"
   ]
  },
  {
   "cell_type": "code",
   "execution_count": 1,
   "metadata": {},
   "outputs": [
    {
     "name": "stdout",
     "output_type": "stream",
     "text": [
      "Notebook running on Python 3.7.4\n",
      "Numpy version 1.18.4\n",
      "Scikit-learn version 0.23.1.\n",
      "Keras version  2.4.0 and TensorFlow 2.3.0 (CUDA: True - GPUs available: [] )\n"
     ]
    }
   ],
   "source": [
    "import os\n",
    "#os.environ['CUDA_VISIBLE_DEVICES'] = '0,1'\n",
    "#os.environ[\"CUDA_VISIBLE_DEVICES\"] = \"0,1,3\"\n",
    "os.environ[\"CUDA_VISIBLE_DEVICES\"] = \"-1\"\n",
    "\n",
    "from decimal import Decimal\n",
    "import numpy as np\n",
    "import glob\n",
    "import importlib\n",
    "import gc\n",
    "import matplotlib.pyplot as plt\n",
    "#from livelossplot import PlotLossesKeras\n",
    "import sklearn\n",
    "from sklearn.preprocessing import StandardScaler\n",
    "from sklearn.metrics import mean_absolute_error, mean_squared_error\n",
    "import pickle\n",
    "import gc # Garbage Collector\n",
    "import pandas as pd\n",
    "from numpy import savez_compressed\n",
    "from joblib import dump, load\n",
    "import h5py\n",
    "import random\n",
    "\n",
    "from keras.models import load_model\n",
    "from keras.preprocessing.sequence import TimeseriesGenerator\n",
    "from keras.models import Sequential, load_model\n",
    "from keras.layers import LSTM, TimeDistributed\n",
    "from keras.layers.core import Dense, Flatten, Dropout, RepeatVector, Reshape\n",
    "from keras.layers.convolutional import Conv3D, Conv3DTranspose, MaxPooling3D \n",
    "from keras.callbacks import ModelCheckpoint\n",
    "\n",
    "from platform import python_version\n",
    "import keras\n",
    "import tensorflow as tf\n",
    "\n",
    "from tensorflow.compat.v1.keras.backend import set_session\n",
    "config = tf.compat.v1.ConfigProto()\n",
    "config.gpu_options.allow_growth = True  # True dynamically grow the memory used on the GPU\n",
    "sess = tf.compat.v1.Session(config=config)\n",
    "set_session(sess)\n",
    "\n",
    "from tensorflow.python.client import device_lib\n",
    "def get_available_gpus():\n",
    "    local_device_protos = device_lib.list_local_devices()\n",
    "    return [x.name for x in local_device_protos if x.device_type == 'GPU']\n",
    "\n",
    "print('Notebook running on Python', python_version())\n",
    "print('Numpy version', np.version.version)\n",
    "print('Scikit-learn version {}.'.format(sklearn.__version__))\n",
    "print('Keras version ', keras.__version__,'and TensorFlow', tf.__version__, '(CUDA:', tf.test.is_built_with_cuda(), '- GPUs available:', get_available_gpus(), ')')"
   ]
  },
  {
   "cell_type": "markdown",
   "metadata": {},
   "source": [
    "## Define global variables\n",
    "Such as object dimension and dataset properties"
   ]
  },
  {
   "cell_type": "code",
   "execution_count": 2,
   "metadata": {},
   "outputs": [],
   "source": [
    "dimX, dimY, dimZ = 117, 86, 38\n",
    "n_cells = dimX * dimY * dimZ\n",
    "dims = (dimX, dimY, dimZ)\n",
    "n_channels = 3\n",
    "n_input = 3\n",
    "n_output = 10\n",
    "n_batch = 8\n",
    "leakyrelu = lambda x: tf.keras.activations.relu(x, alpha=0.1)"
   ]
  },
  {
   "cell_type": "markdown",
   "metadata": {},
   "source": [
    "## Load data from files\n",
    "Data is filtered and reshaped for scaling.\n",
    "First 200 samples are kept, while the rest of them are thirded.\n"
   ]
  },
  {
   "cell_type": "code",
   "execution_count": 3,
   "metadata": {},
   "outputs": [],
   "source": [
    "tsini=0\n",
    "tsend=200\n",
    "basepath = \"/home/bsc21/bsc21334/SCRATCH/aina-data/\"\n",
    "pathnpz = basepath + \"/NPZs/\"\n",
    "targetname = \"/case3.5.npz\"\n",
    "#path = basepath + \"/MODEL-%d-%d/\" % (tsini, tsend)\n",
    "path = basepath + \"/MODCHAN%d-%d-%d/\" % (n_output, tsini, tsend)\n",
    "if not os.path.exists(path):\n",
    "    os.mkdir(path)\n",
    "datapath = basepath + \"/DATAFULL-%d-%d/\" % (tsini, tsend)\n",
    "if not os.path.exists(datapath):\n",
    "    os.mkdir(datapath)"
   ]
  },
  {
   "cell_type": "code",
   "execution_count": 29,
   "metadata": {},
   "outputs": [
    {
     "name": "stdout",
     "output_type": "stream",
     "text": [
      "Loading case 4.1\n",
      "(200, 117, 86, 38, 3)\n",
      "Loading case 4.4\n",
      "(200, 117, 86, 38, 3)\n",
      "Loading case 3.2\n",
      "(200, 117, 86, 38, 3)\n",
      "Loading case 3.7\n",
      "(200, 117, 86, 38, 3)\n",
      "Loading case 3.9\n",
      "(200, 117, 86, 38, 3)\n",
      "Loading case 4.8\n",
      "(200, 117, 86, 38, 3)\n",
      "Loading case 4.2\n",
      "(200, 117, 86, 38, 3)\n",
      "Loading case 5.0\n",
      "(200, 117, 86, 38, 3)\n",
      "Loading case 6.0\n",
      "(200, 117, 86, 38, 3)\n",
      "Loading case 3.0\n",
      "(200, 117, 86, 38, 3)\n",
      "Loading case 4.5\n",
      "(200, 117, 86, 38, 3)\n",
      "Loading case 3.1\n",
      "(200, 117, 86, 38, 3)\n",
      "Loading case 3.6\n",
      "(200, 117, 86, 38, 3)\n",
      "Loading case 5.7\n",
      "(200, 117, 86, 38, 3)\n",
      "Loading case 3.8\n",
      "(200, 117, 86, 38, 3)\n",
      "Loading case 5.4\n",
      "(200, 117, 86, 38, 3)\n",
      "Loading case 5.9\n",
      "(200, 117, 86, 38, 3)\n",
      "Loading case 4.0\n",
      "(200, 117, 86, 38, 3)\n",
      "Loading case 5.1\n",
      "(200, 117, 86, 38, 3)\n",
      "Loading case 5.6\n",
      "(200, 117, 86, 38, 3)\n",
      "Loading case 4.3\n",
      "(200, 117, 86, 38, 3)\n",
      "Loading case 4.6\n",
      "(200, 117, 86, 38, 3)\n",
      "Loading case 5.2\n",
      "(200, 117, 86, 38, 3)\n",
      "Loading case 3.4\n",
      "(200, 117, 86, 38, 3)\n",
      "Loading case 3.5\n",
      "(200, 117, 86, 38, 3)\n",
      "Loading case 5.8\n",
      "(200, 117, 86, 38, 3)\n",
      "Loading case 4.7\n",
      "(200, 117, 86, 38, 3)\n",
      "Loading case 3.3\n",
      "(200, 117, 86, 38, 3)\n",
      "Loading case 5.5\n",
      "(200, 117, 86, 38, 3)\n",
      "Loading case 5.3\n",
      "(200, 117, 86, 38, 3)\n",
      "Loading case 4.9\n",
      "(200, 117, 86, 38, 3)\n",
      "(2370607200, 3)\n",
      "31\n",
      "['4.1', '4.4', '3.2', '3.7', '3.9', '4.8', '4.2', '5.0', '6.0', '3.0', '4.5', '3.1', '3.6', '5.7', '3.8', '5.4', '5.9', '4.0', '5.1', '5.6', '4.3', '4.6', '5.2', '3.4', '3.5', '5.8', '4.7', '3.3', '5.5', '5.3', '4.9']\n",
      "CPU times: user 7min 46s, sys: 19.5 s, total: 8min 6s\n",
      "Wall time: 8min 11s\n"
     ]
    }
   ],
   "source": [
    "%%time\n",
    "caseindex = []\n",
    "samples_per_case = []\n",
    "ds = []\n",
    "files = glob.glob(pathnpz + \"*.npz\")\n",
    "random.seed(0)\n",
    "random.shuffle(files)\n",
    "#print(files)\n",
    "for filename in files:\n",
    "        #if int(filename.split(\"/\")[-1].split(\".\")[0][-1]) > 3:\n",
    "        #    continue\n",
    "        #if filename == pathnpz + targetname:\n",
    "        #    continue       \n",
    "        #print(filename)\n",
    "        caseid = filename.split(\"/\")[-1].split(\".npz\")[0].split(\"case\")[-1]\n",
    "        print(\"Loading case\", caseid)\n",
    "        caseindex.append(caseid)\n",
    "        dsaux = np.load(filename)\n",
    "        dsaux = np.array(dsaux.f.data[tsini:tsend], dtype=np.float32)\n",
    "        print(dsaux.shape)\n",
    "        samples_per_case.append(len(dsaux))\n",
    "        ds.append(dsaux.reshape(dsaux.shape[0] * dsaux.shape[1] * dsaux.shape[2] * dsaux.shape[3], dsaux.shape[4]))\n",
    "        #print(ds[-1].shape)\n",
    "        \n",
    "ds = np.array(ds)\n",
    "ds = np.concatenate(ds, axis=0)\n",
    "print(ds.shape)\n",
    "print(len(caseindex))\n",
    "print(caseindex)"
   ]
  },
  {
   "cell_type": "code",
   "execution_count": 30,
   "metadata": {},
   "outputs": [
    {
     "name": "stdout",
     "output_type": "stream",
     "text": [
      "Dataset size in memory: 26.49 GB\n",
      "class:  ndarray\n",
      "shape:  (2370607200, 3)\n",
      "strides:  (12, 4)\n",
      "itemsize:  4\n",
      "aligned:  True\n",
      "contiguous:  True\n",
      "fortran:  False\n",
      "data pointer: 0x7fe49f380010\n",
      "byteorder:  little\n",
      "byteswap:  False\n",
      "type: float32\n"
     ]
    }
   ],
   "source": [
    "print('Dataset size in memory: %0.2f GB' % (ds.nbytes / 1024**3))\n",
    "np.info(ds)\n",
    "#ds_ready = ds.reshape((-1, tsend - tsini,) + dims + (n_channels,))\n",
    "#print(ds_ready.shape)"
   ]
  },
  {
   "cell_type": "markdown",
   "metadata": {},
   "source": [
    "## Fit, transform and save scalers"
   ]
  },
  {
   "cell_type": "code",
   "execution_count": 31,
   "metadata": {},
   "outputs": [
    {
     "name": "stdout",
     "output_type": "stream",
     "text": [
      "Fitting X...\n",
      "Reshaping X...\n",
      "Fitting Y...\n",
      "Reshaping Y...\n",
      "Fitting Z...\n",
      "Reshaping Z...\n",
      "(31, 200, 117, 86, 38, 1)\n",
      "(31, 200, 117, 86, 38, 1)\n",
      "(31, 200, 117, 86, 38, 1)\n",
      "CPU times: user 15min 36s, sys: 18.3 s, total: 15min 54s\n",
      "Wall time: 15min 54s\n"
     ]
    }
   ],
   "source": [
    "%%time\n",
    "\n",
    "dsS = ds[:, 0]\n",
    "dsS = dsS.reshape((-1, n_cells))\n",
    "print(\"Fitting X...\")\n",
    "scalerX = StandardScaler()\n",
    "#scalerX = MinMaxScaler()\n",
    "dsS = scalerX.fit_transform(dsS)\n",
    "dump(scalerX, path + \"/scalerX.joblib\")\n",
    "print(\"Reshaping X...\")\n",
    "dsS = dsS.reshape(sum(samples_per_case), dimX, dimY, dimZ, 1)\n",
    "acc = 0\n",
    "dsX_ready = []\n",
    "for case in range(len(samples_per_case)):\n",
    "    idx_ini = acc\n",
    "    acc += samples_per_case[case]\n",
    "    dsX_ready.append(dsS[idx_ini:acc, :, :, :, :])  \n",
    "dsX_ready=np.array(dsX_ready)\n",
    "\n",
    "dsS = ds[:, 1]\n",
    "dsS = dsS.reshape((-1, n_cells))\n",
    "scalerY = StandardScaler()\n",
    "#scalerY = MinMaxScaler()\n",
    "print(\"Fitting Y...\")\n",
    "dsS = scalerY.fit_transform(dsS)\n",
    "dump(scalerY, path + \"/scalerY.joblib\")\n",
    "print(\"Reshaping Y...\")\n",
    "dsS = dsS.reshape(sum(samples_per_case), dimX, dimY, dimZ, 1)\n",
    "acc = 0\n",
    "dsY_ready = []\n",
    "for case in range(len(samples_per_case)):\n",
    "    idx_ini = acc\n",
    "    acc += samples_per_case[case]\n",
    "    dsY_ready.append(dsS[idx_ini:acc, :, :, :, :])  \n",
    "dsY_ready=np.array(dsY_ready)\n",
    "\n",
    "dsS = ds[:, 2]\n",
    "dsS = dsS.reshape((-1, n_cells))\n",
    "scalerZ = StandardScaler()\n",
    "#scalerZ = MinMaxScaler()\n",
    "print(\"Fitting Z...\")\n",
    "dsS = scalerZ.fit_transform(dsS)\n",
    "dump(scalerZ, path + \"/scalerZ.joblib\")\n",
    "print(\"Reshaping Z...\")\n",
    "dsS = dsS.reshape(sum(samples_per_case), dimX, dimY, dimZ, 1)\n",
    "acc = 0\n",
    "dsZ_ready = []\n",
    "for case in range(len(samples_per_case)):\n",
    "    idx_ini = acc\n",
    "    acc += samples_per_case[case]\n",
    "    dsZ_ready.append(dsS[idx_ini:acc, :, :, :, :])  \n",
    "dsZ_ready=np.array(dsZ_ready)\n",
    "\n",
    "print(dsX_ready.shape)\n",
    "print(dsY_ready.shape)\n",
    "print(dsZ_ready.shape)"
   ]
  },
  {
   "cell_type": "raw",
   "metadata": {},
   "source": [
    "ds_ready = []\n",
    "ds_ready.append(dsX_ready)\n",
    "ds_ready.append(dsY_ready)\n",
    "ds_ready.append(dsZ_ready)\n",
    "with h5py.File(datapath + \"/data.h5\", \"w\") as hf:\n",
    "    hf.create_dataset(\"dataset\",  data=ds_ready)"
   ]
  },
  {
   "cell_type": "code",
   "execution_count": 32,
   "metadata": {},
   "outputs": [
    {
     "name": "stdout",
     "output_type": "stream",
     "text": [
      "Dataset size in memory: 20.51 GB\n",
      "class:  ndarray\n",
      "shape:  (3, 24, 200, 117, 86, 38, 1)\n",
      "strides:  (7341235200, 305884800, 1529424, 13072, 152, 4, 4)\n",
      "itemsize:  4\n",
      "aligned:  True\n",
      "contiguous:  True\n",
      "fortran:  False\n",
      "data pointer: 0x7fdf7e800010\n",
      "byteorder:  little\n",
      "byteswap:  False\n",
      "type: float32\n",
      "Dataset size in memory: 5.98 GB\n",
      "class:  ndarray\n",
      "shape:  (3, 7, 200, 117, 86, 38, 1)\n",
      "strides:  (2141193600, 305884800, 1529424, 13072, 152, 4, 4)\n",
      "itemsize:  4\n",
      "aligned:  True\n",
      "contiguous:  True\n",
      "fortran:  False\n",
      "data pointer: 0x7febf5210010\n",
      "byteorder:  little\n",
      "byteswap:  False\n",
      "type: float32\n"
     ]
    }
   ],
   "source": [
    "ratio = int(len(files) * 0.8)\n",
    "#print(ratio)\n",
    "dsX_train = dsX_ready[:ratio]\n",
    "dsX_test = dsX_ready[ratio:]\n",
    "dsY_train = dsY_ready[:ratio]\n",
    "dsY_test = dsY_ready[ratio:]\n",
    "dsZ_train = dsZ_ready[:ratio]\n",
    "dsZ_test = dsZ_ready[ratio:]\n",
    "#rint(dsX_train.shape)\n",
    "\n",
    "ds_train = []\n",
    "ds_train.append(dsX_train)\n",
    "ds_train.append(dsY_train)\n",
    "ds_train.append(dsZ_train)\n",
    "print('Dataset size in memory: %0.2f GB' % (np.array(ds_train).nbytes / 1024**3))\n",
    "np.info(np.array(ds_train))\n",
    "\n",
    "ds_test = []\n",
    "ds_test.append(dsX_test)\n",
    "ds_test.append(dsY_test)\n",
    "ds_test.append(dsZ_test)\n",
    "print('Dataset size in memory: %0.2f GB' % (np.array(ds_test).nbytes / 1024**3))\n",
    "np.info(np.array(ds_test))\n",
    "\n",
    "with h5py.File(datapath + \"/train.h5\", \"w\") as hf:\n",
    "    hf.create_dataset(\"dataset\",  data=ds_train)\n",
    "with h5py.File(datapath + \"/test.h5\", \"w\") as hf:\n",
    "    hf.create_dataset(\"dataset\",  data=ds_test)"
   ]
  },
  {
   "cell_type": "markdown",
   "metadata": {},
   "source": [
    "# LOAD DATA"
   ]
  },
  {
   "cell_type": "code",
   "execution_count": 8,
   "metadata": {},
   "outputs": [
    {
     "name": "stdout",
     "output_type": "stream",
     "text": [
      "(3, 24, 200, 117, 86, 38, 1)\n"
     ]
    }
   ],
   "source": [
    "with h5py.File(datapath + \"train.h5\",\"r\") as hf:\n",
    "    ds_train = hf[\"dataset\"][:]\n",
    "print(ds_train.shape)"
   ]
  },
  {
   "cell_type": "code",
   "execution_count": 10,
   "metadata": {},
   "outputs": [
    {
     "data": {
      "image/png": "[encoded data removed]",
      "text/plain": [
       "<Figure size 432x288 with 1 Axes>"
      ]
     },
     "metadata": {
      "needs_background": "light"
     },
     "output_type": "display_data"
    },
    {
     "data": {
      "image/png": "[encoded data removed]",
      "text/plain": [
       "<Figure size 432x288 with 1 Axes>"
      ]
     },
     "metadata": {
      "needs_background": "light"
     },
     "output_type": "display_data"
    },
    {
     "data": {
      "image/png": "[encoded data removed]",
      "text/plain": [
       "<Figure size 432x288 with 1 Axes>"
      ]
     },
     "metadata": {
      "needs_background": "light"
     },
     "output_type": "display_data"
    }
   ],
   "source": [
    "for c in range(3):\n",
    "    ds = ds_train[c].flatten()\n",
    "    #_ = plt.hist(ds, bins='auto')  # arguments are passed to np.histogram\n",
    "    plt.hist(ds, bins='auto')\n",
    "    plt.xlim(-5,5)\n",
    "    plt.ylim(0,1200000)\n",
    "    plt.title(\"Histogram with 'auto' bins\")\n",
    "    plt.show()"
   ]
  },
  {
   "cell_type": "code",
   "execution_count": 5,
   "metadata": {},
   "outputs": [
    {
     "name": "stdout",
     "output_type": "stream",
     "text": [
      "(3, 7, 200, 117, 86, 38, 1)\n"
     ]
    }
   ],
   "source": [
    "with h5py.File(datapath + \"test.h5\",\"r\") as hf:\n",
    "    ds_test = hf[\"dataset\"][:]\n",
    "print(ds_test.shape)"
   ]
  },
  {
   "cell_type": "code",
   "execution_count": 7,
   "metadata": {},
   "outputs": [
    {
     "data": {
      "image/png": "[encoded data removed]",
      "text/plain": [
       "<Figure size 432x288 with 1 Axes>"
      ]
     },
     "metadata": {
      "needs_background": "light"
     },
     "output_type": "display_data"
    },
    {
     "data": {
      "image/png": "[encoded data removed]",
      "text/plain": [
       "<Figure size 432x288 with 1 Axes>"
      ]
     },
     "metadata": {
      "needs_background": "light"
     },
     "output_type": "display_data"
    },
    {
     "data": {
      "image/png": "[encoded data removed]",
      "text/plain": [
       "<Figure size 432x288 with 1 Axes>"
      ]
     },
     "metadata": {
      "needs_background": "light"
     },
     "output_type": "display_data"
    }
   ],
   "source": [
    "for c in range(3):\n",
    "    ds = ds_test[c].flatten()\n",
    "    #_ = plt.hist(ds, bins='auto')  # arguments are passed to np.histogram\n",
    "    plt.hist(ds, bins='auto')\n",
    "    plt.xlim(-5,5)\n",
    "    plt.ylim(0,1200000)\n",
    "    plt.title(\"Histogram with 'auto' bins\")\n",
    "    plt.show()"
   ]
  },
  {
   "cell_type": "code",
   "execution_count": null,
   "metadata": {},
   "outputs": [],
   "source": []
  },
  {
   "cell_type": "code",
   "execution_count": null,
   "metadata": {},
   "outputs": [],
   "source": []
  },
  {
   "cell_type": "code",
   "execution_count": 12,
   "metadata": {},
   "outputs": [],
   "source": [
    "### inverse transform\n",
    "pred_output = ds_ready\n",
    "dsX_pred = pred_output[:,:,:,:,:,0].reshape(-1, n_cells)\n",
    "dsX_pred = scalerX.inverse_transform(dsX_pred)\n",
    "dsY_pred = pred_output[:,:,:,:,:,1].reshape(-1, n_cells)\n",
    "dsY_pred = scalerY.inverse_transform(dsY_pred)\n",
    "dsZ_pred = pred_output[:,:,:,:,:,2].reshape(-1, n_cells)\n",
    "dsZ_pred = scalerZ.inverse_transform(dsZ_pred)\n",
    "dsX_pred = dsX_pred.reshape((-1,) + (101,) + dims + (1,))\n",
    "dsY_pred = dsY_pred.reshape((-1,) + (101,) +  dims + (1,))\n",
    "dsZ_pred = dsZ_pred.reshape((-1,) + (101,) +  dims + (1,))\n",
    "pred_output = np.concatenate((dsX_pred, dsY_pred, dsZ_pred), axis=5)"
   ]
  },
  {
   "cell_type": "code",
   "execution_count": 13,
   "metadata": {},
   "outputs": [],
   "source": [
    "dsX_pred = dsX_pred.reshape((-1,) + (101,) + dims + (1,))\n",
    "dsY_pred = dsY_pred.reshape((-1,) + (101,) +  dims + (1,))\n",
    "dsZ_pred = dsZ_pred.reshape((-1,) + (101,) +  dims + (1,))\n",
    "pred_output = np.concatenate((dsX_pred, dsY_pred, dsZ_pred), axis=5)"
   ]
  },
  {
   "cell_type": "code",
   "execution_count": 14,
   "metadata": {},
   "outputs": [
    {
     "data": {
      "text/plain": [
       "(11, 101, 117, 86, 38, 3)"
      ]
     },
     "execution_count": 14,
     "metadata": {},
     "output_type": "execute_result"
    }
   ],
   "source": [
    "pred_output.shape"
   ]
  },
  {
   "cell_type": "code",
   "execution_count": 15,
   "metadata": {},
   "outputs": [
    {
     "data": {
      "text/plain": [
       "array([[[[ 1.2242301e+00, -4.6877400e-04,  1.3536900e-02],\n",
       "         [ 2.3585100e+00, -2.4623101e-04,  1.3650600e-02],\n",
       "         [ 2.8892300e+00, -1.9185600e-04,  1.5657200e-02],\n",
       "         ...,\n",
       "         [ 5.9183502e+00, -2.8694400e-05,  2.3059700e-04],\n",
       "         [ 5.9740500e+00, -2.7140200e-05, -1.2652999e-04],\n",
       "         [ 6.0252500e+00, -2.5527899e-05, -2.4333299e-04]],\n",
       "\n",
       "        [[ 1.2242301e+00, -1.2526300e-03,  1.3534000e-02],\n",
       "         [ 2.3585100e+00, -7.2305999e-04,  1.3649100e-02],\n",
       "         [ 2.8892300e+00, -5.7814701e-04,  1.5656400e-02],\n",
       "         ...,\n",
       "         [ 5.9183502e+00, -8.5191299e-05,  2.3482500e-04],\n",
       "         [ 5.9740500e+00, -8.0353100e-05, -1.2402399e-04],\n",
       "         [ 6.0252500e+00, -7.5852702e-05, -2.4203300e-04]],\n",
       "\n",
       "        [[ 1.2242100e+00, -2.0889901e-03,  1.3536300e-02],\n",
       "         [ 2.3585100e+00, -1.2059100e-03,  1.3654400e-02],\n",
       "         [ 2.8892200e+00, -9.6368702e-04,  1.5663400e-02],\n",
       "         ...,\n",
       "         [ 5.9183502e+00, -1.3967601e-04,  2.4329600e-04],\n",
       "         [ 5.9740500e+00, -1.3136800e-04, -1.1920900e-04],\n",
       "         [ 6.0252500e+00, -1.2424900e-04, -2.3987101e-04]],\n",
       "\n",
       "        ...,\n",
       "\n",
       "        [[ 1.2242100e+00,  2.0888599e-03,  1.3536300e-02],\n",
       "         [ 2.3585100e+00,  1.2058400e-03,  1.3654400e-02],\n",
       "         [ 2.8892200e+00,  9.6362602e-04,  1.5663400e-02],\n",
       "         ...,\n",
       "         [ 5.9183502e+00,  1.3964300e-04,  2.4331600e-04],\n",
       "         [ 5.9740500e+00,  1.3133400e-04, -1.1919700e-04],\n",
       "         [ 6.0252500e+00,  1.2421500e-04, -2.3986500e-04]],\n",
       "\n",
       "        [[ 1.2242301e+00,  1.2525599e-03,  1.3534000e-02],\n",
       "         [ 2.3585100e+00,  7.2301598e-04,  1.3649100e-02],\n",
       "         [ 2.8892300e+00,  5.7811098e-04,  1.5656499e-02],\n",
       "         ...,\n",
       "         [ 5.9183502e+00,  8.5171399e-05,  2.3484501e-04],\n",
       "         [ 5.9740500e+00,  8.0332997e-05, -1.2401200e-04],\n",
       "         [ 6.0252500e+00,  7.5832497e-05, -2.4202801e-04]],\n",
       "\n",
       "        [[ 1.2242301e+00,  4.6874801e-04,  1.3536900e-02],\n",
       "         [ 2.3585100e+00,  2.4621500e-04,  1.3650600e-02],\n",
       "         [ 2.8892300e+00,  1.9184301e-04,  1.5657200e-02],\n",
       "         ...,\n",
       "         [ 5.9183502e+00,  2.8687800e-05,  2.3061600e-04],\n",
       "         [ 5.9740500e+00,  2.7133499e-05, -1.2651800e-04],\n",
       "         [ 6.0252500e+00,  2.5521200e-05, -2.4332800e-04]]],\n",
       "\n",
       "\n",
       "       [[[ 9.7523499e-01, -1.0905300e-03,  1.7701900e-02],\n",
       "         [ 2.3148601e+00, -7.7107700e-04,  2.8163999e-02],\n",
       "         [ 2.9037700e+00, -5.8140297e-04,  3.1271201e-02],\n",
       "         ...,\n",
       "         [ 5.9185801e+00, -8.6010899e-05,  6.7887001e-04],\n",
       "         [ 5.9745798e+00, -8.1161699e-05, -2.8503500e-04],\n",
       "         [ 6.0248499e+00, -7.6677497e-05, -6.0426100e-04]],\n",
       "\n",
       "        [[ 9.7521597e-01, -3.1245900e-03,  1.7695099e-02],\n",
       "         [ 2.3148401e+00, -2.2753701e-03,  2.8167799e-02],\n",
       "         [ 2.9037499e+00, -1.7479400e-03,  3.1273399e-02],\n",
       "         ...,\n",
       "         [ 5.9185700e+00, -2.5554799e-04,  6.9166702e-04],\n",
       "         [ 5.9745798e+00, -2.4032300e-04, -2.7771399e-04],\n",
       "         [ 6.0248499e+00, -2.2728099e-04, -6.0090900e-04]],\n",
       "\n",
       "        [[ 9.7515798e-01, -5.2044000e-03,  1.7698400e-02],\n",
       "         [ 2.3148000e+00, -3.7914801e-03,  2.8181300e-02],\n",
       "         [ 2.9037299e+00, -2.9115700e-03,  3.1292699e-02],\n",
       "         ...,\n",
       "         [ 5.9185700e+00, -4.1919699e-04,  7.1720697e-04],\n",
       "         [ 5.9745798e+00, -3.9303501e-04, -2.6302700e-04],\n",
       "         [ 6.0248499e+00, -3.7182000e-04, -5.9490802e-04]],\n",
       "\n",
       "        ...,\n",
       "\n",
       "        [[ 9.7515702e-01,  5.2041002e-03,  1.7698500e-02],\n",
       "         [ 2.3148000e+00,  3.7912501e-03,  2.8181300e-02],\n",
       "         [ 2.9037299e+00,  2.9113900e-03,  3.1292699e-02],\n",
       "         ...,\n",
       "         [ 5.9185700e+00,  4.1909900e-04,  7.1726402e-04],\n",
       "         [ 5.9745798e+00,  3.9293701e-04, -2.6299301e-04],\n",
       "         [ 6.0248499e+00,  3.7172201e-04, -5.9489399e-04]],\n",
       "\n",
       "        [[ 9.7521597e-01,  3.1243900e-03,  1.7695099e-02],\n",
       "         [ 2.3148401e+00,  2.2752199e-03,  2.8167799e-02],\n",
       "         [ 2.9037499e+00,  1.7478300e-03,  3.1273399e-02],\n",
       "         ...,\n",
       "         [ 5.9185700e+00,  2.5549001e-04,  6.9172401e-04],\n",
       "         [ 5.9745798e+00,  2.4026399e-04, -2.7768000e-04],\n",
       "         [ 6.0248499e+00,  2.2722300e-04, -6.0089497e-04]],\n",
       "\n",
       "        [[ 9.7523499e-01,  1.0904600e-03,  1.7701900e-02],\n",
       "         [ 2.3148601e+00,  7.7102898e-04,  2.8163999e-02],\n",
       "         [ 2.9037700e+00,  5.8136601e-04,  3.1271201e-02],\n",
       "         ...,\n",
       "         [ 5.9185801e+00,  8.5991502e-05,  6.7892601e-04],\n",
       "         [ 5.9745798e+00,  8.1142098e-05, -2.8500200e-04],\n",
       "         [ 6.0248499e+00,  7.6658100e-05, -6.0424698e-04]]],\n",
       "\n",
       "\n",
       "       [[[ 8.5535300e-01, -1.5630201e-03,  5.9355898e-03],\n",
       "         [ 2.2672300e+00, -1.2985200e-03,  2.3134399e-02],\n",
       "         [ 2.9151001e+00, -9.8109595e-04,  2.6558800e-02],\n",
       "         ...,\n",
       "         [ 5.9190202e+00, -1.4318401e-04,  1.1036700e-03],\n",
       "         [ 5.9752798e+00, -1.3457899e-04, -2.7769100e-04],\n",
       "         [ 6.0247102e+00, -1.2774800e-04, -7.6254498e-04]],\n",
       "\n",
       "        [[ 8.5530603e-01, -4.6091801e-03,  5.9266300e-03],\n",
       "         [ 2.2671900e+00, -3.8559099e-03,  2.3147700e-02],\n",
       "         [ 2.9150701e+00, -2.9453200e-03,  2.6565200e-02],\n",
       "         ...,\n",
       "         [ 5.9190202e+00, -4.2561800e-04,  1.1252700e-03],\n",
       "         [ 5.9752798e+00, -3.9882399e-04, -2.6577001e-04],\n",
       "         [ 6.0247002e+00, -3.7787599e-04, -7.5790699e-04]],\n",
       "\n",
       "        [[ 8.5518402e-01, -7.6723499e-03,  5.9289699e-03],\n",
       "         [ 2.2670901e+00, -6.4224401e-03,  2.3166001e-02],\n",
       "         [ 2.9150200e+00, -4.9042301e-03,  2.6593899e-02],\n",
       "         ...,\n",
       "         [ 5.9190202e+00, -6.9842499e-04,  1.1680800e-03],\n",
       "         [ 5.9752898e+00, -6.5273000e-04, -2.4082100e-04],\n",
       "         [ 6.0247102e+00, -6.1758602e-04, -7.4858702e-04]],\n",
       "\n",
       "        ...,\n",
       "\n",
       "        [[ 8.5518301e-01,  7.6719401e-03,  5.9289699e-03],\n",
       "         [ 2.2670901e+00,  6.4220801e-03,  2.3165900e-02],\n",
       "         [ 2.9150200e+00,  4.9039400e-03,  2.6593801e-02],\n",
       "         ...,\n",
       "         [ 5.9190202e+00,  6.9826498e-04,  1.1681700e-03],\n",
       "         [ 5.9752898e+00,  6.5257098e-04, -2.4076299e-04],\n",
       "         [ 6.0247102e+00,  6.1742699e-04, -7.4856501e-04]],\n",
       "\n",
       "        [[ 8.5530502e-01,  4.6088998e-03,  5.9266300e-03],\n",
       "         [ 2.2671900e+00,  3.8556601e-03,  2.3147700e-02],\n",
       "         [ 2.9150701e+00,  2.9451400e-03,  2.6565200e-02],\n",
       "         ...,\n",
       "         [ 5.9190202e+00,  4.2552300e-04,  1.1253600e-03],\n",
       "         [ 5.9752798e+00,  3.9872801e-04, -2.6571300e-04],\n",
       "         [ 6.0247002e+00,  3.7778000e-04, -7.5788598e-04]],\n",
       "\n",
       "        [[ 8.5535300e-01,  1.5629400e-03,  5.9355898e-03],\n",
       "         [ 2.2672300e+00,  1.2984400e-03,  2.3134399e-02],\n",
       "         [ 2.9151001e+00,  9.8103797e-04,  2.6558800e-02],\n",
       "         ...,\n",
       "         [ 5.9190202e+00,  1.4315201e-04,  1.1037600e-03],\n",
       "         [ 5.9752798e+00,  1.3454800e-04, -2.7763401e-04],\n",
       "         [ 6.0247102e+00,  1.2771600e-04, -7.6252298e-04]]],\n",
       "\n",
       "\n",
       "       ...,\n",
       "\n",
       "\n",
       "       [[[ 1.2953500e+00, -5.6559098e-04, -2.4713500e-04],\n",
       "         [ 2.4324601e+00, -1.0087900e-03, -1.5081300e-03],\n",
       "         [ 2.9686100e+00, -1.0845100e-03, -3.9791302e-03],\n",
       "         ...,\n",
       "         [ 5.8616500e+00,  1.9001099e-04, -1.7606501e-02],\n",
       "         [ 5.8948798e+00,  1.7416400e-04, -1.0166400e-02],\n",
       "         [ 5.9053001e+00,  1.6527501e-04, -3.2268099e-03]],\n",
       "\n",
       "        [[ 1.2954600e+00, -1.8324602e-03, -2.4819901e-04],\n",
       "         [ 2.4325900e+00, -3.2711299e-03, -1.5001500e-03],\n",
       "         [ 2.9686699e+00, -3.5451900e-03, -3.9639501e-03],\n",
       "         ...,\n",
       "         [ 5.8619599e+00,  5.6895998e-04, -1.7573100e-02],\n",
       "         [ 5.8952098e+00,  5.2720099e-04, -1.0149900e-02],\n",
       "         [ 5.9056301e+00,  4.9966498e-04, -3.2234699e-03]],\n",
       "\n",
       "        [[ 1.2955199e+00, -3.0775100e-03, -2.4739301e-04],\n",
       "         [ 2.4326899e+00, -5.5205999e-03, -1.4937100e-03],\n",
       "         [ 2.9687099e+00, -6.0278899e-03, -3.9437800e-03],\n",
       "         ...,\n",
       "         [ 5.8622398e+00,  9.4222103e-04, -1.7570101e-02],\n",
       "         [ 5.8955202e+00,  8.7649497e-04, -1.0151000e-02],\n",
       "         [ 5.9059601e+00,  8.3001400e-04, -3.2239500e-03]],\n",
       "\n",
       "        ...,\n",
       "\n",
       "        [[ 1.2955199e+00,  3.0776900e-03, -2.4739199e-04],\n",
       "         [ 2.4326899e+00,  5.5208602e-03, -1.4937100e-03],\n",
       "         [ 2.9687099e+00,  6.0280398e-03, -3.9437800e-03],\n",
       "         ...,\n",
       "         [ 5.8622398e+00, -9.4252900e-04, -1.7570000e-02],\n",
       "         [ 5.8955302e+00, -8.7680400e-04, -1.0150900e-02],\n",
       "         [ 5.9059601e+00, -8.3032501e-04, -3.2239300e-03]],\n",
       "\n",
       "        [[ 1.2954600e+00,  1.8325500e-03, -2.4819799e-04],\n",
       "         [ 2.4325900e+00,  3.2712701e-03, -1.5001500e-03],\n",
       "         [ 2.9686699e+00,  3.5452901e-03, -3.9639501e-03],\n",
       "         ...,\n",
       "         [ 5.8619599e+00, -5.6914799e-04, -1.7573001e-02],\n",
       "         [ 5.8952098e+00, -5.2738702e-04, -1.0149800e-02],\n",
       "         [ 5.9056301e+00, -4.9985101e-04, -3.2234499e-03]],\n",
       "\n",
       "        [[ 1.2953500e+00,  5.6562701e-04, -2.4713401e-04],\n",
       "         [ 2.4324601e+00,  1.0088600e-03, -1.5081300e-03],\n",
       "         [ 2.9686100e+00,  1.0845700e-03, -3.9791302e-03],\n",
       "         ...,\n",
       "         [ 5.8616500e+00, -1.9007600e-04, -1.7606400e-02],\n",
       "         [ 5.8948898e+00, -1.7422601e-04, -1.0166300e-02],\n",
       "         [ 5.9053001e+00, -1.6533700e-04, -3.2267901e-03]]],\n",
       "\n",
       "\n",
       "       [[[ 1.2988600e+00, -5.4127898e-04,  7.1377697e-05],\n",
       "         [ 2.4434299e+00, -9.8380598e-04, -6.5758702e-04],\n",
       "         [ 2.9836299e+00, -1.0818100e-03, -2.7169900e-03],\n",
       "         ...,\n",
       "         [ 5.8560700e+00,  1.8012800e-04, -1.8739101e-02],\n",
       "         [ 5.8892698e+00,  1.6797300e-04, -1.0746300e-02],\n",
       "         [ 5.8998899e+00,  1.6042500e-04, -3.3313800e-03]],\n",
       "\n",
       "        [[ 1.2990000e+00, -1.7362100e-03,  6.8587498e-05],\n",
       "         [ 2.4436400e+00, -3.1638499e-03, -6.5576303e-04],\n",
       "         [ 2.9837899e+00, -3.4970699e-03, -2.7130800e-03],\n",
       "         ...,\n",
       "         [ 5.8563800e+00,  5.1817502e-04, -1.8679300e-02],\n",
       "         [ 5.8895898e+00,  4.8353901e-04, -1.0709900e-02],\n",
       "         [ 5.9001999e+00,  4.5768701e-04, -3.3196700e-03]],\n",
       "\n",
       "        [[ 1.2990800e+00, -2.8812501e-03,  6.9865397e-05],\n",
       "         [ 2.4437799e+00, -5.2901702e-03, -6.4935797e-04],\n",
       "         [ 2.9838800e+00, -5.8944500e-03, -2.6952000e-03],\n",
       "         ...,\n",
       "         [ 5.8566699e+00,  8.3748403e-04, -1.8661801e-02],\n",
       "         [ 5.8899102e+00,  7.8052701e-04, -1.0702700e-02],\n",
       "         [ 5.9005299e+00,  7.3503703e-04, -3.3164800e-03]],\n",
       "\n",
       "        ...,\n",
       "\n",
       "        [[ 1.2990800e+00,  2.8814401e-03,  6.9867398e-05],\n",
       "         [ 2.4437799e+00,  5.2904999e-03, -6.4935401e-04],\n",
       "         [ 2.9838800e+00,  5.8947201e-03, -2.6952000e-03],\n",
       "         ...,\n",
       "         [ 5.8566799e+00, -8.3777501e-04, -1.8661801e-02],\n",
       "         [ 5.8899102e+00, -7.8081799e-04, -1.0702700e-02],\n",
       "         [ 5.9005299e+00, -7.3532999e-04, -3.3164599e-03]],\n",
       "\n",
       "        [[ 1.2990000e+00,  1.7363200e-03,  6.8590103e-05],\n",
       "         [ 2.4436400e+00,  3.1640299e-03, -6.5575697e-04],\n",
       "         [ 2.9837899e+00,  3.4972203e-03, -2.7130800e-03],\n",
       "         ...,\n",
       "         [ 5.8563800e+00, -5.1835098e-04, -1.8679200e-02],\n",
       "         [ 5.8895898e+00, -4.8371099e-04, -1.0709900e-02],\n",
       "         [ 5.9001999e+00, -4.5786102e-04, -3.3196500e-03]],\n",
       "\n",
       "        [[ 1.2988600e+00,  5.4131198e-04,  7.1379902e-05],\n",
       "         [ 2.4434299e+00,  9.8387199e-04, -6.5758300e-04],\n",
       "         [ 2.9836299e+00,  1.0818900e-03, -2.7169799e-03],\n",
       "         ...,\n",
       "         [ 5.8560700e+00, -1.8018800e-04, -1.8739000e-02],\n",
       "         [ 5.8892698e+00, -1.6803000e-04, -1.0746200e-02],\n",
       "         [ 5.8998899e+00, -1.6048200e-04, -3.3313599e-03]]],\n",
       "\n",
       "\n",
       "       [[[ 1.3121500e+00, -4.8330499e-04, -5.1124702e-05],\n",
       "         [ 2.4673600e+00, -9.1235398e-04, -2.0892599e-03],\n",
       "         [ 3.0136700e+00, -1.0399800e-03, -4.7270302e-03],\n",
       "         ...,\n",
       "         [ 5.8426600e+00,  1.2945601e-04, -2.2327600e-02],\n",
       "         [ 5.8767099e+00,  1.1371300e-04, -1.2411500e-02],\n",
       "         [ 5.8887000e+00,  1.0521300e-04, -3.6194101e-03]],\n",
       "\n",
       "        [[ 1.3123300e+00, -1.5530200e-03, -5.0424002e-05],\n",
       "         [ 2.4676499e+00, -2.9150201e-03, -2.0857200e-03],\n",
       "         [ 3.0139401e+00, -3.3270300e-03, -4.7253100e-03],\n",
       "         ...,\n",
       "         [ 5.8430600e+00,  4.0090800e-04, -2.2218799e-02],\n",
       "         [ 5.8771100e+00,  3.6789500e-04, -1.2352100e-02],\n",
       "         [ 5.8890800e+00,  3.4527399e-04, -3.6048100e-03]],\n",
       "\n",
       "        [[ 1.3124400e+00, -2.5477500e-03, -5.0617298e-05],\n",
       "         [ 2.4678500e+00, -4.8086802e-03, -2.0841600e-03],\n",
       "         [ 3.0141301e+00, -5.5268402e-03, -4.7162799e-03],\n",
       "         ...,\n",
       "         [ 5.8434000e+00,  6.7430403e-04, -2.2163499e-02],\n",
       "         [ 5.8774700e+00,  6.3412398e-04, -1.2322700e-02],\n",
       "         [ 5.8894501e+00,  6.0110999e-04, -3.5960900e-03]],\n",
       "\n",
       "        ...,\n",
       "\n",
       "        [[ 1.3124400e+00,  2.5479100e-03, -5.0616800e-05],\n",
       "         [ 2.4678500e+00,  4.8090001e-03, -2.0841500e-03],\n",
       "         [ 3.0141301e+00,  5.5271699e-03, -4.7162701e-03],\n",
       "         ...,\n",
       "         [ 5.8434100e+00, -6.7455799e-04, -2.2163400e-02],\n",
       "         [ 5.8774700e+00, -6.3437899e-04, -1.2322600e-02],\n",
       "         [ 5.8894501e+00, -6.0136802e-04, -3.5960700e-03]],\n",
       "\n",
       "        [[ 1.3123200e+00,  1.5531000e-03, -5.0423601e-05],\n",
       "         [ 2.4676499e+00,  2.9151801e-03, -2.0857200e-03],\n",
       "         [ 3.0139401e+00,  3.3272000e-03, -4.7252998e-03],\n",
       "         ...,\n",
       "         [ 5.8430600e+00, -4.0105701e-04, -2.2218700e-02],\n",
       "         [ 5.8771100e+00, -3.6804200e-04, -1.2352100e-02],\n",
       "         [ 5.8890901e+00, -3.4542300e-04, -3.6047800e-03]],\n",
       "\n",
       "        [[ 1.3121500e+00,  4.8331899e-04, -5.1125200e-05],\n",
       "         [ 2.4673600e+00,  9.1239600e-04, -2.0892599e-03],\n",
       "         [ 3.0136700e+00,  1.0400400e-03, -4.7270302e-03],\n",
       "         ...,\n",
       "         [ 5.8426600e+00, -1.2950500e-04, -2.2327499e-02],\n",
       "         [ 5.8767099e+00, -1.1376100e-04, -1.2411400e-02],\n",
       "         [ 5.8887000e+00, -1.0526100e-04, -3.6193801e-03]]]],\n",
       "      dtype=float32)"
      ]
     },
     "execution_count": 15,
     "metadata": {},
     "output_type": "execute_result"
    }
   ],
   "source": [
    "pred_output[0][0]"
   ]
  },
  {
   "cell_type": "code",
   "execution_count": null,
   "metadata": {},
   "outputs": [],
   "source": []
  },
  {
   "cell_type": "code",
   "execution_count": null,
   "metadata": {},
   "outputs": [],
   "source": []
  },
  {
   "cell_type": "code",
   "execution_count": 16,
   "metadata": {},
   "outputs": [
    {
     "ename": "FileNotFoundError",
     "evalue": "[Errno 2] No such file or directory: '/home/bsc21/bsc21334/SCRATCH/aina-data/ts1.11U.npz'",
     "output_type": "error",
     "traceback": [
      "\u001b[0;31m---------------------------------------------------------------------------\u001b[0m",
      "\u001b[0;31mFileNotFoundError\u001b[0m                         Traceback (most recent call last)",
      "\u001b[0;32m<ipython-input-16-84a8020ef455>\u001b[0m in \u001b[0;36m<module>\u001b[0;34m\u001b[0m\n\u001b[0;32m----> 1\u001b[0;31m \u001b[0mds\u001b[0m \u001b[0;34m=\u001b[0m \u001b[0mnp\u001b[0m\u001b[0;34m.\u001b[0m\u001b[0mload\u001b[0m\u001b[0;34m(\u001b[0m\u001b[0mbasepath\u001b[0m \u001b[0;34m+\u001b[0m \u001b[0;34m\"ts1.11U.npz\"\u001b[0m\u001b[0;34m)\u001b[0m\u001b[0;34m\u001b[0m\u001b[0;34m\u001b[0m\u001b[0m\n\u001b[0m\u001b[1;32m      2\u001b[0m \u001b[0mds\u001b[0m \u001b[0;34m=\u001b[0m \u001b[0mnp\u001b[0m\u001b[0;34m.\u001b[0m\u001b[0marray\u001b[0m\u001b[0;34m(\u001b[0m\u001b[0mds\u001b[0m\u001b[0;34m.\u001b[0m\u001b[0mf\u001b[0m\u001b[0;34m.\u001b[0m\u001b[0mdata\u001b[0m\u001b[0;34m,\u001b[0m \u001b[0mdtype\u001b[0m\u001b[0;34m=\u001b[0m\u001b[0mnp\u001b[0m\u001b[0;34m.\u001b[0m\u001b[0mfloat16\u001b[0m\u001b[0;34m)\u001b[0m\u001b[0;34m\u001b[0m\u001b[0;34m\u001b[0m\u001b[0m\n\u001b[1;32m      3\u001b[0m \u001b[0mprint\u001b[0m\u001b[0;34m(\u001b[0m\u001b[0mds\u001b[0m\u001b[0;34m.\u001b[0m\u001b[0mshape\u001b[0m\u001b[0;34m)\u001b[0m\u001b[0;34m\u001b[0m\u001b[0;34m\u001b[0m\u001b[0m\n\u001b[1;32m      4\u001b[0m \u001b[0mds\u001b[0m \u001b[0;34m=\u001b[0m \u001b[0mds\u001b[0m\u001b[0;34m.\u001b[0m\u001b[0mreshape\u001b[0m\u001b[0;34m(\u001b[0m\u001b[0;34m(\u001b[0m\u001b[0;34m-\u001b[0m\u001b[0;36m1\u001b[0m\u001b[0;34m,\u001b[0m\u001b[0;34m)\u001b[0m \u001b[0;34m+\u001b[0m \u001b[0mdims\u001b[0m \u001b[0;34m+\u001b[0m \u001b[0;34m(\u001b[0m\u001b[0;36m3\u001b[0m\u001b[0;34m,\u001b[0m\u001b[0;34m)\u001b[0m\u001b[0;34m)\u001b[0m\u001b[0;34m\u001b[0m\u001b[0;34m\u001b[0m\u001b[0m\n\u001b[1;32m      5\u001b[0m \u001b[0mprint\u001b[0m\u001b[0;34m(\u001b[0m\u001b[0mds\u001b[0m\u001b[0;34m.\u001b[0m\u001b[0mshape\u001b[0m\u001b[0;34m)\u001b[0m\u001b[0;34m\u001b[0m\u001b[0;34m\u001b[0m\u001b[0m\n",
      "\u001b[0;32m/apps/PYTHON/3.7.4_ML/lib/python3.7/site-packages/numpy/lib/npyio.py\u001b[0m in \u001b[0;36mload\u001b[0;34m(file, mmap_mode, allow_pickle, fix_imports, encoding)\u001b[0m\n\u001b[1;32m    426\u001b[0m         \u001b[0mown_fid\u001b[0m \u001b[0;34m=\u001b[0m \u001b[0;32mFalse\u001b[0m\u001b[0;34m\u001b[0m\u001b[0;34m\u001b[0m\u001b[0m\n\u001b[1;32m    427\u001b[0m     \u001b[0;32melse\u001b[0m\u001b[0;34m:\u001b[0m\u001b[0;34m\u001b[0m\u001b[0;34m\u001b[0m\u001b[0m\n\u001b[0;32m--> 428\u001b[0;31m         \u001b[0mfid\u001b[0m \u001b[0;34m=\u001b[0m \u001b[0mopen\u001b[0m\u001b[0;34m(\u001b[0m\u001b[0mos_fspath\u001b[0m\u001b[0;34m(\u001b[0m\u001b[0mfile\u001b[0m\u001b[0;34m)\u001b[0m\u001b[0;34m,\u001b[0m \u001b[0;34m\"rb\"\u001b[0m\u001b[0;34m)\u001b[0m\u001b[0;34m\u001b[0m\u001b[0;34m\u001b[0m\u001b[0m\n\u001b[0m\u001b[1;32m    429\u001b[0m         \u001b[0mown_fid\u001b[0m \u001b[0;34m=\u001b[0m \u001b[0;32mTrue\u001b[0m\u001b[0;34m\u001b[0m\u001b[0;34m\u001b[0m\u001b[0m\n\u001b[1;32m    430\u001b[0m \u001b[0;34m\u001b[0m\u001b[0m\n",
      "\u001b[0;31mFileNotFoundError\u001b[0m: [Errno 2] No such file or directory: '/home/bsc21/bsc21334/SCRATCH/aina-data/ts1.11U.npz'"
     ]
    }
   ],
   "source": [
    "ds = np.load(basepath + \"ts1.11U.npz\")\n",
    "ds = np.array(ds.f.data, dtype=np.float16)\n",
    "print(ds.shape)\n",
    "ds = ds.reshape((-1,) + dims + (3,))\n",
    "print(ds.shape)"
   ]
  },
  {
   "cell_type": "code",
   "execution_count": null,
   "metadata": {},
   "outputs": [],
   "source": [
    "ds"
   ]
  },
  {
   "cell_type": "code",
   "execution_count": null,
   "metadata": {},
   "outputs": [],
   "source": []
  }
 ],
 "metadata": {
  "kernelspec": {
   "display_name": "Python 3",
   "language": "python",
   "name": "python3"
  },
  "language_info": {
   "codemirror_mode": {
    "name": "ipython",
    "version": 3
   },
   "file_extension": ".py",
   "mimetype": "text/x-python",
   "name": "python",
   "nbconvert_exporter": "python",
   "pygments_lexer": "ipython3",
   "version": "3.7.4"
  }
 },
 "nbformat": 4,
 "nbformat_minor": 4
}
